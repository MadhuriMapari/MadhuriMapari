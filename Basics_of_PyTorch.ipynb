{
  "nbformat": 4,
  "nbformat_minor": 0,
  "metadata": {
    "colab": {
      "name": "Basics of PyTorch.ipynb",
      "provenance": [],
      "authorship_tag": "ABX9TyNRKc80t2rim3VvGiAezLVq",
      "include_colab_link": true
    },
    "kernelspec": {
      "name": "python3",
      "display_name": "Python 3"
    },
    "language_info": {
      "name": "python"
    }
  },
  "cells": [
    {
      "cell_type": "markdown",
      "metadata": {
        "id": "view-in-github",
        "colab_type": "text"
      },
      "source": [
        "<a href=\"https://colab.research.google.com/github/MadhuriMapari/MadhuriMapari/blob/main/Basics_of_PyTorch.ipynb\" target=\"_parent\"><img src=\"https://colab.research.google.com/assets/colab-badge.svg\" alt=\"Open In Colab\"/></a>"
      ]
    },
    {
      "cell_type": "code",
      "metadata": {
        "id": "OsUezi5G0ZwU"
      },
      "source": [
        "import torch "
      ],
      "execution_count": 1,
      "outputs": []
    },
    {
      "cell_type": "markdown",
      "metadata": {
        "id": "8ZKfNmWc3Svo"
      },
      "source": [
        "# Basics of PyTorch"
      ]
    },
    {
      "cell_type": "code",
      "metadata": {
        "colab": {
          "base_uri": "https://localhost:8080/"
        },
        "id": "20P4lttWHNoo",
        "outputId": "4b9b54ec-fcbb-453d-be9c-bad73ff852d9"
      },
      "source": [
        "t1 = torch.tensor(4.)\n",
        "t1"
      ],
      "execution_count": 2,
      "outputs": [
        {
          "output_type": "execute_result",
          "data": {
            "text/plain": [
              "tensor(4.)"
            ]
          },
          "metadata": {},
          "execution_count": 2
        }
      ]
    },
    {
      "cell_type": "markdown",
      "metadata": {
        "id": "Csh_CZ_zHgTb"
      },
      "source": [
        "`4.` is shorthand for `4.0`. it is used to indicate to Python( and PyTorch) that create a floating -point number. to verify this ,check the `dtype` attribute of tensor"
      ]
    },
    {
      "cell_type": "code",
      "metadata": {
        "colab": {
          "base_uri": "https://localhost:8080/"
        },
        "id": "BTn5KJNcIws3",
        "outputId": "7c0295f8-80b9-4636-8976-5ebe3e1a6c72"
      },
      "source": [
        "t1.dtype"
      ],
      "execution_count": 3,
      "outputs": [
        {
          "output_type": "execute_result",
          "data": {
            "text/plain": [
              "torch.float32"
            ]
          },
          "metadata": {},
          "execution_count": 3
        }
      ]
    },
    {
      "cell_type": "markdown",
      "metadata": {
        "id": "P6tsednrI-jb"
      },
      "source": [
        "Lets try some more complex tensor "
      ]
    },
    {
      "cell_type": "code",
      "metadata": {
        "colab": {
          "base_uri": "https://localhost:8080/"
        },
        "id": "RTkyBOTfI8X2",
        "outputId": "a620725e-a885-4ebe-ce15-f0e10a625c64"
      },
      "source": [
        "t2 = torch.tensor((1.,2,3,4))\n",
        "t2"
      ],
      "execution_count": 4,
      "outputs": [
        {
          "output_type": "execute_result",
          "data": {
            "text/plain": [
              "tensor([1., 2., 3., 4.])"
            ]
          },
          "metadata": {},
          "execution_count": 4
        }
      ]
    },
    {
      "cell_type": "markdown",
      "metadata": {
        "id": "8T07D5cMJVJY"
      },
      "source": [
        "So all the elements of tensor have same datatype"
      ]
    },
    {
      "cell_type": "code",
      "metadata": {
        "colab": {
          "base_uri": "https://localhost:8080/"
        },
        "id": "qdUqceYrJehM",
        "outputId": "b0fccd89-2b86-4b80-f201-ea676fc0a845"
      },
      "source": [
        "t2.dtype"
      ],
      "execution_count": 5,
      "outputs": [
        {
          "output_type": "execute_result",
          "data": {
            "text/plain": [
              "torch.float32"
            ]
          },
          "metadata": {},
          "execution_count": 5
        }
      ]
    },
    {
      "cell_type": "code",
      "metadata": {
        "colab": {
          "base_uri": "https://localhost:8080/"
        },
        "id": "kML9mb7kJmNM",
        "outputId": "20772c3d-ee43-4ebd-e989-de38d7e3d9e0"
      },
      "source": [
        "#Matrix: 2 dimensional  \n",
        "t3 = torch.tensor([[5.,6],\n",
        "                   [7,8],\n",
        "                   [9,10]])\n",
        "t3"
      ],
      "execution_count": 6,
      "outputs": [
        {
          "output_type": "execute_result",
          "data": {
            "text/plain": [
              "tensor([[ 5.,  6.],\n",
              "        [ 7.,  8.],\n",
              "        [ 9., 10.]])"
            ]
          },
          "metadata": {},
          "execution_count": 6
        }
      ]
    },
    {
      "cell_type": "code",
      "metadata": {
        "colab": {
          "base_uri": "https://localhost:8080/"
        },
        "id": "Ked3mRI8L4j8",
        "outputId": "9479e5ae-abad-44e9-ec1e-048c712e076b"
      },
      "source": [
        "#3 dimensional array\n",
        "t4 = torch.tensor([\n",
        "                   [[11,12,13],\n",
        "                    [13,14,15]],\n",
        "                   [[15,16,17],\n",
        "                     [17,18,19.]]])\n",
        "t4"
      ],
      "execution_count": 7,
      "outputs": [
        {
          "output_type": "execute_result",
          "data": {
            "text/plain": [
              "tensor([[[11., 12., 13.],\n",
              "         [13., 14., 15.]],\n",
              "\n",
              "        [[15., 16., 17.],\n",
              "         [17., 18., 19.]]])"
            ]
          },
          "metadata": {},
          "execution_count": 7
        }
      ]
    },
    {
      "cell_type": "markdown",
      "metadata": {
        "id": "ltsqZ1GTUY6n"
      },
      "source": [
        "Tensor can have any number of dimensions and different lengths along each dimension. We can inspect the length along each diamension using the `.shape` property of a tensor"
      ]
    },
    {
      "cell_type": "code",
      "metadata": {
        "colab": {
          "base_uri": "https://localhost:8080/"
        },
        "id": "d6L95kK0U9Ls",
        "outputId": "0e25f6e1-88ba-44af-bddb-bf605d6e8d99"
      },
      "source": [
        "print(t1)\n",
        "t1.shape"
      ],
      "execution_count": 8,
      "outputs": [
        {
          "output_type": "stream",
          "name": "stdout",
          "text": [
            "tensor(4.)\n"
          ]
        },
        {
          "output_type": "execute_result",
          "data": {
            "text/plain": [
              "torch.Size([])"
            ]
          },
          "metadata": {},
          "execution_count": 8
        }
      ]
    },
    {
      "cell_type": "code",
      "metadata": {
        "colab": {
          "base_uri": "https://localhost:8080/"
        },
        "id": "CaX_8nwiVF3C",
        "outputId": "7a6808e1-4c7a-4033-b7a2-8737798be619"
      },
      "source": [
        "print(t2)\n",
        "t2.shape"
      ],
      "execution_count": 9,
      "outputs": [
        {
          "output_type": "stream",
          "name": "stdout",
          "text": [
            "tensor([1., 2., 3., 4.])\n"
          ]
        },
        {
          "output_type": "execute_result",
          "data": {
            "text/plain": [
              "torch.Size([4])"
            ]
          },
          "metadata": {},
          "execution_count": 9
        }
      ]
    },
    {
      "cell_type": "code",
      "metadata": {
        "colab": {
          "base_uri": "https://localhost:8080/"
        },
        "id": "eqyGloq-VNxV",
        "outputId": "9fafdb81-52a8-4aeb-8c71-d3eb9d9dbb2e"
      },
      "source": [
        "print(t3)\n",
        "t3.shape"
      ],
      "execution_count": 10,
      "outputs": [
        {
          "output_type": "stream",
          "name": "stdout",
          "text": [
            "tensor([[ 5.,  6.],\n",
            "        [ 7.,  8.],\n",
            "        [ 9., 10.]])\n"
          ]
        },
        {
          "output_type": "execute_result",
          "data": {
            "text/plain": [
              "torch.Size([3, 2])"
            ]
          },
          "metadata": {},
          "execution_count": 10
        }
      ]
    },
    {
      "cell_type": "code",
      "metadata": {
        "colab": {
          "base_uri": "https://localhost:8080/"
        },
        "id": "T44S1iBLVUan",
        "outputId": "f013af09-1ed0-49b1-f054-f26a75f18f14"
      },
      "source": [
        "print(t4)\n",
        "t4.shape"
      ],
      "execution_count": 11,
      "outputs": [
        {
          "output_type": "stream",
          "name": "stdout",
          "text": [
            "tensor([[[11., 12., 13.],\n",
            "         [13., 14., 15.]],\n",
            "\n",
            "        [[15., 16., 17.],\n",
            "         [17., 18., 19.]]])\n"
          ]
        },
        {
          "output_type": "execute_result",
          "data": {
            "text/plain": [
              "torch.Size([2, 2, 3])"
            ]
          },
          "metadata": {},
          "execution_count": 11
        }
      ]
    },
    {
      "cell_type": "markdown",
      "metadata": {
        "id": "VwgMNVFvVvzw"
      },
      "source": [
        "**Note**: its not possible to create tensor with an improper shape."
      ]
    },
    {
      "cell_type": "code",
      "metadata": {
        "colab": {
          "base_uri": "https://localhost:8080/",
          "height": 212
        },
        "id": "vxZpvydiVbr3",
        "outputId": "272208aa-ce8b-4049-d97a-eb15d9d08aa9"
      },
      "source": [
        "t5 = torch.tensor([[5.,6,11],\n",
        "                   [7,8],\n",
        "                   [9,10]])\n",
        "t5"
      ],
      "execution_count": 12,
      "outputs": [
        {
          "output_type": "error",
          "ename": "ValueError",
          "evalue": "ignored",
          "traceback": [
            "\u001b[0;31m---------------------------------------------------------------------------\u001b[0m",
            "\u001b[0;31mValueError\u001b[0m                                Traceback (most recent call last)",
            "\u001b[0;32m<ipython-input-12-4cc463f5c87b>\u001b[0m in \u001b[0;36m<module>\u001b[0;34m()\u001b[0m\n\u001b[1;32m      1\u001b[0m t5 = torch.tensor([[5.,6,11],\n\u001b[1;32m      2\u001b[0m                    \u001b[0;34m[\u001b[0m\u001b[0;36m7\u001b[0m\u001b[0;34m,\u001b[0m\u001b[0;36m8\u001b[0m\u001b[0;34m]\u001b[0m\u001b[0;34m,\u001b[0m\u001b[0;34m\u001b[0m\u001b[0;34m\u001b[0m\u001b[0m\n\u001b[0;32m----> 3\u001b[0;31m                    [9,10]])\n\u001b[0m\u001b[1;32m      4\u001b[0m \u001b[0mt5\u001b[0m\u001b[0;34m\u001b[0m\u001b[0;34m\u001b[0m\u001b[0m\n",
            "\u001b[0;31mValueError\u001b[0m: expected sequence of length 3 at dim 1 (got 2)"
          ]
        }
      ]
    },
    {
      "cell_type": "markdown",
      "metadata": {
        "id": "5vgveRDqWRYs"
      },
      "source": [
        "### Tensor Operations and Gradients\n",
        "\n",
        "Combine tensors with the usual arithmetic operations. \n"
      ]
    },
    {
      "cell_type": "code",
      "metadata": {
        "colab": {
          "base_uri": "https://localhost:8080/"
        },
        "id": "JJRNSRY5WPZ6",
        "outputId": "29bb34bf-382b-4066-e56f-f9544b134019"
      },
      "source": [
        "x = torch.tensor(3.)\n",
        "w = torch.tensor(4.,requires_grad=True)\n",
        "b = torch.tensor(5.,requires_grad=True)\n",
        "x,w,b "
      ],
      "execution_count": 13,
      "outputs": [
        {
          "output_type": "execute_result",
          "data": {
            "text/plain": [
              "(tensor(3.), tensor(4., requires_grad=True), tensor(5., requires_grad=True))"
            ]
          },
          "metadata": {},
          "execution_count": 13
        }
      ]
    },
    {
      "cell_type": "markdown",
      "metadata": {
        "id": "pGV7U0MRXn8b"
      },
      "source": [
        "Combine three tensors: `x`,`w`, and `b`, all numbers.`w` and `b` have an additional parameter `requires_grad` set to `True`. \n",
        "\n",
        "Let's create a new tensor `y` by combining these tensors "
      ]
    },
    {
      "cell_type": "code",
      "metadata": {
        "colab": {
          "base_uri": "https://localhost:8080/"
        },
        "id": "AZbIrlb4YsEH",
        "outputId": "e10f36ed-273c-4532-c55f-01fb4547930e"
      },
      "source": [
        "y = w * x + b \n",
        "y"
      ],
      "execution_count": 14,
      "outputs": [
        {
          "output_type": "execute_result",
          "data": {
            "text/plain": [
              "tensor(17., grad_fn=<AddBackward0>)"
            ]
          },
          "metadata": {},
          "execution_count": 14
        }
      ]
    },
    {
      "cell_type": "markdown",
      "metadata": {
        "id": "0n5-80t8ZJ90"
      },
      "source": [
        "As expected, y is a tensor with the value `3 * 4 + 5 = 17`. \n",
        "\n",
        "What makes pytorch unique is that we can automatically compute the derivative of `y` w.r.t. the tensors that have `requires_grad` set to `True`  i.e. `w`,`b`. This feature of Pytorach is called **autograd** (automatic gradients).\n",
        "\n",
        "To compute the derivatives, we can invoke the `.backward` method on our result "
      ]
    },
    {
      "cell_type": "code",
      "metadata": {
        "id": "2ePSH_hAbkxO"
      },
      "source": [
        "#Compute Derivatives\n",
        "y.backward()"
      ],
      "execution_count": 15,
      "outputs": []
    },
    {
      "cell_type": "markdown",
      "metadata": {
        "id": "cAhbKUEacHhQ"
      },
      "source": [
        "Deritives of `y` w.r.t the input tensors are stored in the `.grad` property of the respective tensors "
      ]
    },
    {
      "cell_type": "code",
      "metadata": {
        "colab": {
          "base_uri": "https://localhost:8080/"
        },
        "id": "IhEO9v42cKDl",
        "outputId": "909255e1-50a3-4f47-ede9-34331a421d90"
      },
      "source": [
        "# Display gradients \n",
        "print('dy/dx:',x.grad)\n",
        "print('dy/dw:',w.grad)\n",
        "print('dy/db:',b.grad)"
      ],
      "execution_count": 16,
      "outputs": [
        {
          "output_type": "stream",
          "name": "stdout",
          "text": [
            "dy/dx: None\n",
            "dy/dw: tensor(3.)\n",
            "dy/db: tensor(1.)\n"
          ]
        }
      ]
    },
    {
      "cell_type": "markdown",
      "metadata": {
        "id": "LPwRd4yEdEDY"
      },
      "source": [
        "As expected, dy/dw has the same value as `x` i.e., `3`, and `dy/db` has the value `1`. \n",
        "\n",
        "Note that `x.grad` is `None` because `x` doesn't have `requires_grad` set to `True`.\n",
        "\n",
        "The \"grad\" in `w.grad` is short for *gradient*, which is another term for derivative. The term *gradient* is primarily used while dealing with vectors and matrices. "
      ]
    },
    {
      "cell_type": "markdown",
      "metadata": {
        "id": "xwBINdSpetPb"
      },
      "source": [
        "### Tensor Functions\n",
        "Apart from arithmetic operations,the `torch` module also containsmany fuctions for creating and manipulating tensors."
      ]
    },
    {
      "cell_type": "code",
      "metadata": {
        "colab": {
          "base_uri": "https://localhost:8080/"
        },
        "id": "5gvvm5vSI7q9",
        "outputId": "05d3bff1-2afe-44d6-ebd2-852466ee6231"
      },
      "source": [
        "#Create a tensor with a fixed value for every element\n",
        "t6 = torch.full((3,2),42)\n",
        "t6"
      ],
      "execution_count": 17,
      "outputs": [
        {
          "output_type": "execute_result",
          "data": {
            "text/plain": [
              "tensor([[42, 42],\n",
              "        [42, 42],\n",
              "        [42, 42]])"
            ]
          },
          "metadata": {},
          "execution_count": 17
        }
      ]
    },
    {
      "cell_type": "code",
      "metadata": {
        "id": "dO8NlulOJpQM"
      },
      "source": [
        "# Concatenate two tensors with compatible shapes\n",
        "t7 = torch.cat((t3,t6))\n",
        "t7"
      ],
      "execution_count": null,
      "outputs": []
    },
    {
      "cell_type": "code",
      "metadata": {
        "colab": {
          "base_uri": "https://localhost:8080/"
        },
        "id": "fdRYL9tgJ4SG",
        "outputId": "8f907c0b-1220-4d3c-c485-745fedc1df14"
      },
      "source": [
        "# Compute the sin of each element\n",
        "t8 = torch.sin(t7)\n",
        "t8"
      ],
      "execution_count": 19,
      "outputs": [
        {
          "output_type": "execute_result",
          "data": {
            "text/plain": [
              "tensor([[-0.9589, -0.2794],\n",
              "        [ 0.6570,  0.9894],\n",
              "        [ 0.4121, -0.5440],\n",
              "        [-0.9165, -0.9165],\n",
              "        [-0.9165, -0.9165],\n",
              "        [-0.9165, -0.9165]])"
            ]
          },
          "metadata": {},
          "execution_count": 19
        }
      ]
    },
    {
      "cell_type": "code",
      "metadata": {
        "colab": {
          "base_uri": "https://localhost:8080/"
        },
        "id": "Tfv6XzUHLMRh",
        "outputId": "67e98b5a-824e-4a4e-8432-f60e81ec5302"
      },
      "source": [
        "t8.shape"
      ],
      "execution_count": 20,
      "outputs": [
        {
          "output_type": "execute_result",
          "data": {
            "text/plain": [
              "torch.Size([6, 2])"
            ]
          },
          "metadata": {},
          "execution_count": 20
        }
      ]
    },
    {
      "cell_type": "code",
      "metadata": {
        "colab": {
          "base_uri": "https://localhost:8080/"
        },
        "id": "wDKnQnplKRbb",
        "outputId": "7da54f17-665e-4ed7-92c5-d46bb30e308b"
      },
      "source": [
        "# Change theshape of a tensor\n",
        "t9 =t8.reshape(3,2,2)\n",
        "t9"
      ],
      "execution_count": 21,
      "outputs": [
        {
          "output_type": "execute_result",
          "data": {
            "text/plain": [
              "tensor([[[-0.9589, -0.2794],\n",
              "         [ 0.6570,  0.9894]],\n",
              "\n",
              "        [[ 0.4121, -0.5440],\n",
              "         [-0.9165, -0.9165]],\n",
              "\n",
              "        [[-0.9165, -0.9165],\n",
              "         [-0.9165, -0.9165]]])"
            ]
          },
          "metadata": {},
          "execution_count": 21
        }
      ]
    },
    {
      "cell_type": "markdown",
      "metadata": {
        "id": "5MOKjzv7LrF8"
      },
      "source": [
        "### Interoperability with Numpy "
      ]
    },
    {
      "cell_type": "code",
      "metadata": {
        "colab": {
          "base_uri": "https://localhost:8080/"
        },
        "id": "JHRgtKjuLeRj",
        "outputId": "82bcf249-d731-4341-e9cf-7a7e3fb4ec72"
      },
      "source": [
        "import numpy as np\n",
        "\n",
        "#create an array in Numpy  \n",
        "x = np.array([[1,2],\n",
        "              [3,4.]])\n",
        "x"
      ],
      "execution_count": 22,
      "outputs": [
        {
          "output_type": "execute_result",
          "data": {
            "text/plain": [
              "array([[1., 2.],\n",
              "       [3., 4.]])"
            ]
          },
          "metadata": {},
          "execution_count": 22
        }
      ]
    },
    {
      "cell_type": "markdown",
      "metadata": {
        "id": "sX5dDhs1MUdg"
      },
      "source": [
        "We can convert a numpy array to a torch tensor."
      ]
    },
    {
      "cell_type": "code",
      "metadata": {
        "colab": {
          "base_uri": "https://localhost:8080/"
        },
        "id": "_keHxAQAMcVh",
        "outputId": "c8ce97a8-8188-49b6-bcb3-1e696f15a717"
      },
      "source": [
        "# Convery the numpy array to a torch tensor\n",
        "y = torch.from_numpy(x)\n",
        "y"
      ],
      "execution_count": 23,
      "outputs": [
        {
          "output_type": "execute_result",
          "data": {
            "text/plain": [
              "tensor([[1., 2.],\n",
              "        [3., 4.]], dtype=torch.float64)"
            ]
          },
          "metadata": {},
          "execution_count": 23
        }
      ]
    },
    {
      "cell_type": "code",
      "metadata": {
        "colab": {
          "base_uri": "https://localhost:8080/"
        },
        "id": "Ruq5n3Y_MmRU",
        "outputId": "d6392856-3bdd-441e-9e51-8873b4873d87"
      },
      "source": [
        "x.dtype, y.dtype"
      ],
      "execution_count": 24,
      "outputs": [
        {
          "output_type": "execute_result",
          "data": {
            "text/plain": [
              "(dtype('float64'), torch.float64)"
            ]
          },
          "metadata": {},
          "execution_count": 24
        }
      ]
    },
    {
      "cell_type": "markdown",
      "metadata": {
        "id": "8PLqOzT2M5jj"
      },
      "source": [
        "similarly we can convert tensor to numpy array "
      ]
    },
    {
      "cell_type": "code",
      "metadata": {
        "colab": {
          "base_uri": "https://localhost:8080/"
        },
        "id": "ZCqrdhbvNFYD",
        "outputId": "105aa1a3-d68d-4303-b43b-995fe14d1cf7"
      },
      "source": [
        "z = y.numpy()\n",
        "z"
      ],
      "execution_count": 25,
      "outputs": [
        {
          "output_type": "execute_result",
          "data": {
            "text/plain": [
              "array([[1., 2.],\n",
              "       [3., 4.]])"
            ]
          },
          "metadata": {},
          "execution_count": 25
        }
      ]
    },
    {
      "cell_type": "markdown",
      "metadata": {
        "id": "VnyLPyVLNOme"
      },
      "source": [
        "Interoperability between pytorch and Numpy is essential because data will be read and preprocessed as numpy \n",
        "\n",
        "**Why tensor instead of numpy?**\n",
        "\n",
        "Numpy provides data structures and utilities for working with multi-dimensional numeric data. However Pytorch is used for below two reasons\n",
        "1. **Autograd**: The ability to automatically compute graditents for tensor operations is essential for training deep learning models.\n",
        "2. **GPU support**: While working with massive datasets and large models, Pytorch tensor operations can be efficiently performed using Graphical Processing Unit(GPU).Computation that might typically take hours can be completed within minutes using GPUs.\n",
        "\n"
      ]
    },
    {
      "cell_type": "markdown",
      "metadata": {
        "id": "qiGXgFYc3OHm"
      },
      "source": [
        "## Gradient Descent and Linear Regression\n",
        "\n",
        "### Introduction of Linear Regression:\n",
        "\n",
        "In Linear Regression model, each target variable is estimated to be weighted sum of input variables, offset by some constant known as a bias.\n",
        "\n",
        "The *learning* part of linear regression is to figure out a set of weights `w11,w12,...` and biases `b1,b2,...` using the training data, to make accurate predictions for new data.  \n",
        "\n",
        "\n"
      ]
    }
  ]
}