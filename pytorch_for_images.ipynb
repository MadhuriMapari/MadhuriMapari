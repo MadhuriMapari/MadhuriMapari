{
  "nbformat": 4,
  "nbformat_minor": 0,
  "metadata": {
    "colab": {
      "name": "pytorch_for images.ipynb",
      "provenance": [],
      "authorship_tag": "ABX9TyNsnoChfl3LCc4EdBYPXbeu",
      "include_colab_link": true
    },
    "kernelspec": {
      "name": "python3",
      "display_name": "Python 3"
    },
    "language_info": {
      "name": "python"
    },
    "widgets": {
      "application/vnd.jupyter.widget-state+json": {
        "983ef3fa771640e08b694ab6dce05bdc": {
          "model_module": "@jupyter-widgets/controls",
          "model_name": "HBoxModel",
          "model_module_version": "1.5.0",
          "state": {
            "_view_name": "HBoxView",
            "_dom_classes": [],
            "_model_name": "HBoxModel",
            "_view_module": "@jupyter-widgets/controls",
            "_model_module_version": "1.5.0",
            "_view_count": null,
            "_view_module_version": "1.5.0",
            "box_style": "",
            "layout": "IPY_MODEL_8ccabbc0f6f24aa38acde8d36caa72a6",
            "_model_module": "@jupyter-widgets/controls",
            "children": [
              "IPY_MODEL_4812dd1b7177424e86d8ce7231d7e389",
              "IPY_MODEL_7ac3fa3f10ff4669af520efb1f2d1d77",
              "IPY_MODEL_0fbad6ecebad44dead6a8b89acef16b2"
            ]
          }
        },
        "8ccabbc0f6f24aa38acde8d36caa72a6": {
          "model_module": "@jupyter-widgets/base",
          "model_name": "LayoutModel",
          "model_module_version": "1.2.0",
          "state": {
            "_view_name": "LayoutView",
            "grid_template_rows": null,
            "right": null,
            "justify_content": null,
            "_view_module": "@jupyter-widgets/base",
            "overflow": null,
            "_model_module_version": "1.2.0",
            "_view_count": null,
            "flex_flow": null,
            "width": null,
            "min_width": null,
            "border": null,
            "align_items": null,
            "bottom": null,
            "_model_module": "@jupyter-widgets/base",
            "top": null,
            "grid_column": null,
            "overflow_y": null,
            "overflow_x": null,
            "grid_auto_flow": null,
            "grid_area": null,
            "grid_template_columns": null,
            "flex": null,
            "_model_name": "LayoutModel",
            "justify_items": null,
            "grid_row": null,
            "max_height": null,
            "align_content": null,
            "visibility": null,
            "align_self": null,
            "height": null,
            "min_height": null,
            "padding": null,
            "grid_auto_rows": null,
            "grid_gap": null,
            "max_width": null,
            "order": null,
            "_view_module_version": "1.2.0",
            "grid_template_areas": null,
            "object_position": null,
            "object_fit": null,
            "grid_auto_columns": null,
            "margin": null,
            "display": null,
            "left": null
          }
        },
        "4812dd1b7177424e86d8ce7231d7e389": {
          "model_module": "@jupyter-widgets/controls",
          "model_name": "HTMLModel",
          "model_module_version": "1.5.0",
          "state": {
            "_view_name": "HTMLView",
            "style": "IPY_MODEL_aa1d5e9b2c014e008b0da83783209d5e",
            "_dom_classes": [],
            "description": "",
            "_model_name": "HTMLModel",
            "placeholder": "​",
            "_view_module": "@jupyter-widgets/controls",
            "_model_module_version": "1.5.0",
            "value": "",
            "_view_count": null,
            "_view_module_version": "1.5.0",
            "description_tooltip": null,
            "_model_module": "@jupyter-widgets/controls",
            "layout": "IPY_MODEL_6205b23d91484097b682e33d6700f383"
          }
        },
        "7ac3fa3f10ff4669af520efb1f2d1d77": {
          "model_module": "@jupyter-widgets/controls",
          "model_name": "FloatProgressModel",
          "model_module_version": "1.5.0",
          "state": {
            "_view_name": "ProgressView",
            "style": "IPY_MODEL_e7eab47d5b164ce3ad1d270b89eb5e8e",
            "_dom_classes": [],
            "description": "",
            "_model_name": "FloatProgressModel",
            "bar_style": "success",
            "max": 9912422,
            "_view_module": "@jupyter-widgets/controls",
            "_model_module_version": "1.5.0",
            "value": 9912422,
            "_view_count": null,
            "_view_module_version": "1.5.0",
            "orientation": "horizontal",
            "min": 0,
            "description_tooltip": null,
            "_model_module": "@jupyter-widgets/controls",
            "layout": "IPY_MODEL_db61219110434337aa15b588bfa0e04a"
          }
        },
        "0fbad6ecebad44dead6a8b89acef16b2": {
          "model_module": "@jupyter-widgets/controls",
          "model_name": "HTMLModel",
          "model_module_version": "1.5.0",
          "state": {
            "_view_name": "HTMLView",
            "style": "IPY_MODEL_42fd8f433f4c4dd29b11c931481f4cc0",
            "_dom_classes": [],
            "description": "",
            "_model_name": "HTMLModel",
            "placeholder": "​",
            "_view_module": "@jupyter-widgets/controls",
            "_model_module_version": "1.5.0",
            "value": " 9913344/? [00:00&lt;00:00, 29507273.32it/s]",
            "_view_count": null,
            "_view_module_version": "1.5.0",
            "description_tooltip": null,
            "_model_module": "@jupyter-widgets/controls",
            "layout": "IPY_MODEL_b6fc1354698c46a4928701d843fadeb9"
          }
        },
        "aa1d5e9b2c014e008b0da83783209d5e": {
          "model_module": "@jupyter-widgets/controls",
          "model_name": "DescriptionStyleModel",
          "model_module_version": "1.5.0",
          "state": {
            "_view_name": "StyleView",
            "_model_name": "DescriptionStyleModel",
            "description_width": "",
            "_view_module": "@jupyter-widgets/base",
            "_model_module_version": "1.5.0",
            "_view_count": null,
            "_view_module_version": "1.2.0",
            "_model_module": "@jupyter-widgets/controls"
          }
        },
        "6205b23d91484097b682e33d6700f383": {
          "model_module": "@jupyter-widgets/base",
          "model_name": "LayoutModel",
          "model_module_version": "1.2.0",
          "state": {
            "_view_name": "LayoutView",
            "grid_template_rows": null,
            "right": null,
            "justify_content": null,
            "_view_module": "@jupyter-widgets/base",
            "overflow": null,
            "_model_module_version": "1.2.0",
            "_view_count": null,
            "flex_flow": null,
            "width": null,
            "min_width": null,
            "border": null,
            "align_items": null,
            "bottom": null,
            "_model_module": "@jupyter-widgets/base",
            "top": null,
            "grid_column": null,
            "overflow_y": null,
            "overflow_x": null,
            "grid_auto_flow": null,
            "grid_area": null,
            "grid_template_columns": null,
            "flex": null,
            "_model_name": "LayoutModel",
            "justify_items": null,
            "grid_row": null,
            "max_height": null,
            "align_content": null,
            "visibility": null,
            "align_self": null,
            "height": null,
            "min_height": null,
            "padding": null,
            "grid_auto_rows": null,
            "grid_gap": null,
            "max_width": null,
            "order": null,
            "_view_module_version": "1.2.0",
            "grid_template_areas": null,
            "object_position": null,
            "object_fit": null,
            "grid_auto_columns": null,
            "margin": null,
            "display": null,
            "left": null
          }
        },
        "e7eab47d5b164ce3ad1d270b89eb5e8e": {
          "model_module": "@jupyter-widgets/controls",
          "model_name": "ProgressStyleModel",
          "model_module_version": "1.5.0",
          "state": {
            "_view_name": "StyleView",
            "_model_name": "ProgressStyleModel",
            "description_width": "",
            "_view_module": "@jupyter-widgets/base",
            "_model_module_version": "1.5.0",
            "_view_count": null,
            "_view_module_version": "1.2.0",
            "bar_color": null,
            "_model_module": "@jupyter-widgets/controls"
          }
        },
        "db61219110434337aa15b588bfa0e04a": {
          "model_module": "@jupyter-widgets/base",
          "model_name": "LayoutModel",
          "model_module_version": "1.2.0",
          "state": {
            "_view_name": "LayoutView",
            "grid_template_rows": null,
            "right": null,
            "justify_content": null,
            "_view_module": "@jupyter-widgets/base",
            "overflow": null,
            "_model_module_version": "1.2.0",
            "_view_count": null,
            "flex_flow": null,
            "width": null,
            "min_width": null,
            "border": null,
            "align_items": null,
            "bottom": null,
            "_model_module": "@jupyter-widgets/base",
            "top": null,
            "grid_column": null,
            "overflow_y": null,
            "overflow_x": null,
            "grid_auto_flow": null,
            "grid_area": null,
            "grid_template_columns": null,
            "flex": null,
            "_model_name": "LayoutModel",
            "justify_items": null,
            "grid_row": null,
            "max_height": null,
            "align_content": null,
            "visibility": null,
            "align_self": null,
            "height": null,
            "min_height": null,
            "padding": null,
            "grid_auto_rows": null,
            "grid_gap": null,
            "max_width": null,
            "order": null,
            "_view_module_version": "1.2.0",
            "grid_template_areas": null,
            "object_position": null,
            "object_fit": null,
            "grid_auto_columns": null,
            "margin": null,
            "display": null,
            "left": null
          }
        },
        "42fd8f433f4c4dd29b11c931481f4cc0": {
          "model_module": "@jupyter-widgets/controls",
          "model_name": "DescriptionStyleModel",
          "model_module_version": "1.5.0",
          "state": {
            "_view_name": "StyleView",
            "_model_name": "DescriptionStyleModel",
            "description_width": "",
            "_view_module": "@jupyter-widgets/base",
            "_model_module_version": "1.5.0",
            "_view_count": null,
            "_view_module_version": "1.2.0",
            "_model_module": "@jupyter-widgets/controls"
          }
        },
        "b6fc1354698c46a4928701d843fadeb9": {
          "model_module": "@jupyter-widgets/base",
          "model_name": "LayoutModel",
          "model_module_version": "1.2.0",
          "state": {
            "_view_name": "LayoutView",
            "grid_template_rows": null,
            "right": null,
            "justify_content": null,
            "_view_module": "@jupyter-widgets/base",
            "overflow": null,
            "_model_module_version": "1.2.0",
            "_view_count": null,
            "flex_flow": null,
            "width": null,
            "min_width": null,
            "border": null,
            "align_items": null,
            "bottom": null,
            "_model_module": "@jupyter-widgets/base",
            "top": null,
            "grid_column": null,
            "overflow_y": null,
            "overflow_x": null,
            "grid_auto_flow": null,
            "grid_area": null,
            "grid_template_columns": null,
            "flex": null,
            "_model_name": "LayoutModel",
            "justify_items": null,
            "grid_row": null,
            "max_height": null,
            "align_content": null,
            "visibility": null,
            "align_self": null,
            "height": null,
            "min_height": null,
            "padding": null,
            "grid_auto_rows": null,
            "grid_gap": null,
            "max_width": null,
            "order": null,
            "_view_module_version": "1.2.0",
            "grid_template_areas": null,
            "object_position": null,
            "object_fit": null,
            "grid_auto_columns": null,
            "margin": null,
            "display": null,
            "left": null
          }
        }
      }
    }
  },
  "cells": [
    {
      "cell_type": "markdown",
      "metadata": {
        "id": "view-in-github",
        "colab_type": "text"
      },
      "source": [
        "<a href=\"https://colab.research.google.com/github/MadhuriMapari/MadhuriMapari/blob/main/pytorch_for_images.ipynb\" target=\"_parent\"><img src=\"https://colab.research.google.com/assets/colab-badge.svg\" alt=\"Open In Colab\"/></a>"
      ]
    },
    {
      "cell_type": "markdown",
      "metadata": {
        "id": "B-BY3KqCrhhE"
      },
      "source": [
        "# PyTorch for Image Data "
      ]
    },
    {
      "cell_type": "markdown",
      "metadata": {
        "id": "pwj77g0zrnkc"
      },
      "source": [
        "Practice \n",
        "1. Working with images in PyTorch\n",
        "2. Splitting a dataset into training, validation and test sets\n",
        "3. Creating PyTorch models with custom logic by extending the nn.Module class\n",
        "4. Interpreting model outputs as probabilities using softmax and picking labels\n",
        "5. Picking a useful evaluation metric (accuracy) and loss function (cross-entropy) for classification probles\n",
        "6. Setting up a training loop that also evaluates the model using the validation set \n",
        "7. Testing the model manually on randomly picked examples \n",
        "8. Saving and loading model checkpoints to avoid retraining from scratch"
      ]
    },
    {
      "cell_type": "markdown",
      "metadata": {
        "id": "a2swUvCvueJv"
      },
      "source": [
        "### Working with Image "
      ]
    },
    {
      "cell_type": "code",
      "metadata": {
        "id": "zIEhwuMNrSHz"
      },
      "source": [
        "import torch \n",
        "import torchvision \n",
        "from torchvision.datasets import MNIST "
      ],
      "execution_count": null,
      "outputs": []
    },
    {
      "cell_type": "code",
      "metadata": {
        "colab": {
          "base_uri": "https://localhost:8080/",
          "height": 467,
          "referenced_widgets": [
            "983ef3fa771640e08b694ab6dce05bdc",
            "8ccabbc0f6f24aa38acde8d36caa72a6",
            "4812dd1b7177424e86d8ce7231d7e389",
            "7ac3fa3f10ff4669af520efb1f2d1d77",
            "0fbad6ecebad44dead6a8b89acef16b2",
            "aa1d5e9b2c014e008b0da83783209d5e",
            "6205b23d91484097b682e33d6700f383",
            "e7eab47d5b164ce3ad1d270b89eb5e8e",
            "db61219110434337aa15b588bfa0e04a",
            "42fd8f433f4c4dd29b11c931481f4cc0",
            "b6fc1354698c46a4928701d843fadeb9",
            "45d33cfd130b4baea20cd7fc2c7dab9a",
            "2b7901955d1f43e4b59703517a445ff6",
            "62339a07296c4f08947e16613f786db5"
          ]
        },
        "id": "S0o2chVlvFje",
        "outputId": "b9166813-de08-4446-cd4f-46efc931daed"
      },
      "source": [
        "dataset = MNIST(root='data/',download=True)"
      ],
      "execution_count": null,
      "outputs": [
        {
          "output_type": "stream",
          "name": "stdout",
          "text": [
            "Downloading http://yann.lecun.com/exdb/mnist/train-images-idx3-ubyte.gz\n",
            "Downloading http://yann.lecun.com/exdb/mnist/train-images-idx3-ubyte.gz to data/MNIST/raw/train-images-idx3-ubyte.gz\n"
          ]
        },
        {
          "output_type": "display_data",
          "data": {
            "application/vnd.jupyter.widget-view+json": {
              "model_id": "983ef3fa771640e08b694ab6dce05bdc",
              "version_minor": 0,
              "version_major": 2
            },
            "text/plain": [
              "  0%|          | 0/9912422 [00:00<?, ?it/s]"
            ]
          },
          "metadata": {}
        },
        {
          "output_type": "stream",
          "name": "stdout",
          "text": [
            "Extracting data/MNIST/raw/train-images-idx3-ubyte.gz to data/MNIST/raw\n",
            "\n",
            "Downloading http://yann.lecun.com/exdb/mnist/train-labels-idx1-ubyte.gz\n",
            "Downloading http://yann.lecun.com/exdb/mnist/train-labels-idx1-ubyte.gz to data/MNIST/raw/train-labels-idx1-ubyte.gz\n"
          ]
        },
        {
          "output_type": "display_data",
          "data": {
            "application/vnd.jupyter.widget-view+json": {
              "model_id": "45d33cfd130b4baea20cd7fc2c7dab9a",
              "version_minor": 0,
              "version_major": 2
            },
            "text/plain": [
              "  0%|          | 0/28881 [00:00<?, ?it/s]"
            ]
          },
          "metadata": {}
        },
        {
          "output_type": "stream",
          "name": "stdout",
          "text": [
            "Extracting data/MNIST/raw/train-labels-idx1-ubyte.gz to data/MNIST/raw\n",
            "\n",
            "Downloading http://yann.lecun.com/exdb/mnist/t10k-images-idx3-ubyte.gz\n",
            "Downloading http://yann.lecun.com/exdb/mnist/t10k-images-idx3-ubyte.gz to data/MNIST/raw/t10k-images-idx3-ubyte.gz\n"
          ]
        },
        {
          "output_type": "display_data",
          "data": {
            "application/vnd.jupyter.widget-view+json": {
              "model_id": "2b7901955d1f43e4b59703517a445ff6",
              "version_minor": 0,
              "version_major": 2
            },
            "text/plain": [
              "  0%|          | 0/1648877 [00:00<?, ?it/s]"
            ]
          },
          "metadata": {}
        },
        {
          "output_type": "stream",
          "name": "stdout",
          "text": [
            "Extracting data/MNIST/raw/t10k-images-idx3-ubyte.gz to data/MNIST/raw\n",
            "\n",
            "Downloading http://yann.lecun.com/exdb/mnist/t10k-labels-idx1-ubyte.gz\n",
            "Downloading http://yann.lecun.com/exdb/mnist/t10k-labels-idx1-ubyte.gz to data/MNIST/raw/t10k-labels-idx1-ubyte.gz\n"
          ]
        },
        {
          "output_type": "display_data",
          "data": {
            "application/vnd.jupyter.widget-view+json": {
              "model_id": "62339a07296c4f08947e16613f786db5",
              "version_minor": 0,
              "version_major": 2
            },
            "text/plain": [
              "  0%|          | 0/4542 [00:00<?, ?it/s]"
            ]
          },
          "metadata": {}
        },
        {
          "output_type": "stream",
          "name": "stdout",
          "text": [
            "Extracting data/MNIST/raw/t10k-labels-idx1-ubyte.gz to data/MNIST/raw\n",
            "\n"
          ]
        },
        {
          "output_type": "stream",
          "name": "stderr",
          "text": [
            "/usr/local/lib/python3.7/dist-packages/torchvision/datasets/mnist.py:498: UserWarning: The given NumPy array is not writeable, and PyTorch does not support non-writeable tensors. This means you can write to the underlying (supposedly non-writeable) NumPy array using the tensor. You may want to copy the array to protect its data or make it writeable before converting it to a tensor. This type of warning will be suppressed for the rest of this program. (Triggered internally at  /pytorch/torch/csrc/utils/tensor_numpy.cpp:180.)\n",
            "  return torch.from_numpy(parsed.astype(m[2], copy=False)).view(*s)\n"
          ]
        }
      ]
    },
    {
      "cell_type": "code",
      "metadata": {
        "colab": {
          "base_uri": "https://localhost:8080/"
        },
        "id": "OYRHlahovd3z",
        "outputId": "c41658c9-615e-46ce-dbfd-e1f46dd0b744"
      },
      "source": [
        "len(dataset)"
      ],
      "execution_count": null,
      "outputs": [
        {
          "output_type": "execute_result",
          "data": {
            "text/plain": [
              "60000"
            ]
          },
          "metadata": {},
          "execution_count": 3
        }
      ]
    },
    {
      "cell_type": "markdown",
      "metadata": {
        "id": "k20kAFY2vlMq"
      },
      "source": [
        "The dataset has 60000 images used to train the model. there is also an additional test test of 10000 images used for evaluating models and reporting matrics in papers and reports. We cancreate the test dataset using the MNIST class by passing train= False to constructor "
      ]
    },
    {
      "cell_type": "code",
      "metadata": {
        "id": "aw7YhlD9vhDe"
      },
      "source": [
        "test_dataset = MNIST(root='data/',download=False)"
      ],
      "execution_count": null,
      "outputs": []
    },
    {
      "cell_type": "markdown",
      "metadata": {
        "id": "ptTVruf8xCU3"
      },
      "source": [
        "Lets look at sample element"
      ]
    },
    {
      "cell_type": "code",
      "metadata": {
        "colab": {
          "base_uri": "https://localhost:8080/"
        },
        "id": "kIUvqR9OwuSk",
        "outputId": "4964e2bd-bbc9-4306-a9ed-828920d9325c"
      },
      "source": [
        "dataset[0]"
      ],
      "execution_count": null,
      "outputs": [
        {
          "output_type": "execute_result",
          "data": {
            "text/plain": [
              "(<PIL.Image.Image image mode=L size=28x28 at 0x7FAF7A2C1C90>, 5)"
            ]
          },
          "metadata": {},
          "execution_count": 5
        }
      ]
    },
    {
      "cell_type": "markdown",
      "metadata": {
        "id": "vSlYAA0Cxayc"
      },
      "source": [
        "Its pair, consisting of 28x28px image and a label. The image is an object of class `PIL.Image.Image`, which is a part of the Python imaging library Pillow.To view the image with Jupyter using `matplotlib` the de-facto plotting and graphing library for data science in python"
      ]
    },
    {
      "cell_type": "code",
      "metadata": {
        "id": "jst1MZi5wyvF"
      },
      "source": [
        "import matplotlib.pyplot as plt\n",
        "%matplotlib inline"
      ],
      "execution_count": null,
      "outputs": []
    },
    {
      "cell_type": "markdown",
      "metadata": {
        "id": "aCNsJoWHzUXM"
      },
      "source": [
        "`%matplotlib inline` indicates to jupiter that we want to plot within the notebook. without this line Jupyter will show the image in popup. \n",
        "\n",
        "the statements with `%` are called magic commands and are used to onfigure the behaviour of jupyter itself . "
      ]
    },
    {
      "cell_type": "markdown",
      "metadata": {
        "id": "DH0VASec02_Z"
      },
      "source": [
        "Lets look at some of the images from the dataset."
      ]
    },
    {
      "cell_type": "code",
      "metadata": {
        "colab": {
          "base_uri": "https://localhost:8080/",
          "height": 282
        },
        "id": "vmc4BUDk0_Hu",
        "outputId": "4e6532a5-86bb-455b-e77b-3f67d8c564c0"
      },
      "source": [
        "image,label = dataset[0]\n",
        "plt.imshow(image, cmap='gray')\n",
        "print('Label: ',label)"
      ],
      "execution_count": null,
      "outputs": [
        {
          "output_type": "stream",
          "name": "stdout",
          "text": [
            "Label:  5\n"
          ]
        },
        {
          "output_type": "display_data",
          "data": {
            "image/png": "[encoded data removed]",
            "text/plain": [
              "<Figure size 432x288 with 1 Axes>"
            ]
          },
          "metadata": {
            "needs_background": "light"
          }
        }
      ]
    },
    {
      "cell_type": "markdown",
      "metadata": {
        "id": "BVo4p5p51rL0"
      },
      "source": [
        "It is evident that these images are relatively small in size, and recognoizing the digits can sometimes be challenging even for human eye. While its useful to look at these images, thses's just one problem here: \n",
        "\n",
        "PyTorch doesn't know how to work with images. We need to convert the images into tensors.W can do this by specifying a transformation while creating our dataset."
      ]
    },
    {
      "cell_type": "code",
      "metadata": {
        "id": "ie0ZQaBT1mVw"
      },
      "source": [
        "import torchvision.transforms as transforms"
      ],
      "execution_count": null,
      "outputs": []
    },
    {
      "cell_type": "markdown",
      "metadata": {
        "id": "jDWdrtR62qvw"
      },
      "source": [
        "PyTorch datasets allow to specify one or more transform functions that are applied to theimages as they are loaded.The `torchvision.transforms` module contains many such predefined functions. Here, use the`ToTensor' transform to convert images into Pytorch tensors. "
      ]
    },
    {
      "cell_type": "code",
      "metadata": {
        "id": "E5A6MejG3rJv"
      },
      "source": [
        "# MNIST dataset (images and labels)\n",
        "dataset = MNIST(root='data/',train=True,transform=transforms.ToTensor())\n"
      ],
      "execution_count": null,
      "outputs": []
    },
    {
      "cell_type": "code",
      "metadata": {
        "colab": {
          "base_uri": "https://localhost:8080/"
        },
        "id": "pG0YhRSV4PrU",
        "outputId": "cc4f8d0c-0ce1-4514-d323-807d12006a58"
      },
      "source": [
        "img_tensor,label = dataset[0]\n",
        "print(img_tensor.shape, label)"
      ],
      "execution_count": null,
      "outputs": [
        {
          "output_type": "stream",
          "name": "stdout",
          "text": [
            "torch.Size([1, 28, 28]) 5\n"
          ]
        }
      ]
    },
    {
      "cell_type": "markdown",
      "metadata": {
        "id": "cVWx7SVh4t2z"
      },
      "source": [
        "The image is now converted into 1x28x28 tensor. The first dimension tracks color channels. The second and third dimensions represent pixels along the height and width of the image, respectively. Since image in the MNIST dataset are grayscale, there's just one channel. Other datasets have images with color, in which case there are three channels : red, green,and blue(RGB) "
      ]
    },
    {
      "cell_type": "markdown",
      "metadata": {
        "id": "rQfX5c1V5q19"
      },
      "source": [
        "Let's look at the sample value inside the tensor"
      ]
    },
    {
      "cell_type": "code",
      "metadata": {
        "colab": {
          "base_uri": "https://localhost:8080/"
        },
        "id": "nPn-6tRT6Cvu",
        "outputId": "1f5b5991-72ec-412a-ffb5-0a45b9e4deff"
      },
      "source": [
        "print(img_tensor[:,10:15,10:15])\n",
        "print(torch.max(img_tensor),torch.min(img_tensor))"
      ],
      "execution_count": null,
      "outputs": [
        {
          "output_type": "stream",
          "name": "stdout",
          "text": [
            "tensor([[[0.0039, 0.6039, 0.9922, 0.3529, 0.0000],\n",
            "         [0.0000, 0.5451, 0.9922, 0.7451, 0.0078],\n",
            "         [0.0000, 0.0431, 0.7451, 0.9922, 0.2745],\n",
            "         [0.0000, 0.0000, 0.1373, 0.9451, 0.8824],\n",
            "         [0.0000, 0.0000, 0.0000, 0.3176, 0.9412]]])\n",
            "tensor(1.) tensor(0.)\n"
          ]
        }
      ]
    },
    {
      "cell_type": "markdown",
      "metadata": {
        "id": "OixSFUds6iKb"
      },
      "source": [
        "The values range from `0` and `1`, with `0` representing black, `1` white, and the values in between different shades of grey. \n",
        "\n",
        "We can also plot the tensor as an image using `plt.imshow` "
      ]
    },
    {
      "cell_type": "code",
      "metadata": {
        "colab": {
          "base_uri": "https://localhost:8080/",
          "height": 282
        },
        "id": "yTSPPH6v73Cu",
        "outputId": "56d63d14-4c56-495c-dcdf-8982ec8a2230"
      },
      "source": [
        "# Plot the image by passing in the 28x28 matrix\n",
        "plt.imshow(img_tensor[0,10:15,10:15],cmap='gray')"
      ],
      "execution_count": null,
      "outputs": [
        {
          "output_type": "execute_result",
          "data": {
            "text/plain": [
              "<matplotlib.image.AxesImage at 0x7faf7d4cf910>"
            ]
          },
          "metadata": {},
          "execution_count": 12
        },
        {
          "output_type": "display_data",
          "data": {
            "image/png": "[encoded data removed]",
            "text/plain": [
              "<Figure size 432x288 with 1 Axes>"
            ]
          },
          "metadata": {
            "needs_background": "light"
          }
        }
      ]
    },
    {
      "cell_type": "markdown",
      "metadata": {
        "id": "l2FI_UIK8bPu"
      },
      "source": [
        "Note that we need to pass just 28x28 matrix to `plt.imshow`,without a channel dimension. We also pass a color map(cmap=gray) to indicate that we want to see a grayscale image."
      ]
    },
    {
      "cell_type": "markdown",
      "metadata": {
        "id": "bO-tJGBjBrwK"
      },
      "source": [
        "### Training and Validation Datasets\n",
        "While building real-world machine learning models, it is quite common to split the dataset into three parts: \n",
        "1. **Training set** - used to train the model, i.e., compute the loss and adjust the model's weights using gradient descent.\n",
        "2. **Validation set** - Used to evaluatethe model during training, adjust hyperparameters(learning rate, etc.), and pick the best version of the model.\n",
        "3. **Test set** - used to compare different models or approaches and report the model's final accuracy.\n",
        "\n",
        "In the MNIST dataset, there are 60000 training images and 10000 test images. the test set is standardized so that different researchers can report their models results against the same collection of images. \n",
        "\n",
        "Since, there's no predefined validation set, we must manually split the 60000 images into training and validation datasets. Let's set aside 10000 randomly chosen images for validation. We can do this using the `random_split` method from PyTorch.\n"
      ]
    },
    {
      "cell_type": "code",
      "metadata": {
        "colab": {
          "base_uri": "https://localhost:8080/"
        },
        "id": "ItHGH_pOFWx9",
        "outputId": "4d64ebf5-0874-4413-8bd2-17e0c0342646"
      },
      "source": [
        "from torch.utils.data import random_split \n",
        "\n",
        "train_ds, val_ds = random_split(dataset, [50000,10000])\n",
        "len(train_ds),len(val_ds)"
      ],
      "execution_count": null,
      "outputs": [
        {
          "output_type": "execute_result",
          "data": {
            "text/plain": [
              "(50000, 10000)"
            ]
          },
          "metadata": {},
          "execution_count": 13
        }
      ]
    },
    {
      "cell_type": "markdown",
      "metadata": {
        "id": "ZzfA2P8XFxEG"
      },
      "source": [
        "It's essential to choose a random sample for creating a validation set. Training data is often sorted by the target labels, i.e.,images of 0s, followed by 1s, followed by 2s, etc. If we create a validation set using the last 20% of images, it would only consist pf 8s and 9s . In contrast, the training set would contain no 8s and 9s. Such a training -validation would make it impossible to train a useful model.\n",
        "\n",
        "Because we use training data to perform Gradient decent and the validation set is only used for evaluation. they are completely separate in the label set they contain\n",
        "\n",
        "We can now create data loader to help us load the data in batches. We'll use a batch size of 128. "
      ]
    },
    {
      "cell_type": "code",
      "metadata": {
        "id": "j_kYgdK2cM0Q"
      },
      "source": [
        "from torch.utils.data import DataLoader\n",
        "\n",
        "batch_size = 128\n",
        "\n",
        "train_loader = DataLoader(train_ds, batch_size,shuffle=True)\n",
        "val_loader = DataLoader(val_ds,batch_size)"
      ],
      "execution_count": null,
      "outputs": []
    },
    {
      "cell_type": "markdown",
      "metadata": {
        "id": "JzpKXdGCdx8X"
      },
      "source": [
        "Set `shuffle=True` for the training dataloader to ensure that the batches generated in each epoch are different. This randomization helps generalize and speed up the training process. On the other hand, since the validation dataloader is used only for evaluating the model , there is no need to shuffle the images "
      ]
    },
    {
      "cell_type": "markdown",
      "metadata": {
        "id": "mCw8YZiweliV"
      },
      "source": [
        " ### Model\n",
        " Now that we have prepared our data loaders we can define our model, \n",
        " - A **logistic regression** model is almost identical to linear regression model. It contains weights and bias matrices, and the output is obtained using simple matrix operation(`pred = x @ wT _b `).\n",
        " - As we did with linear regression , we can use `nn.Linear` to create the model instead of manually creating and initializing the matrices.\n",
        " - Since `nn.Linear` expects each training example to be a vector , each `1x28x28` image tensor is *flattened* into a vector of size 784(`28*28`) \n",
        " - The output for each image is a vector of size 10, with each element signifying the probability of a particular target label(i.e. 0 to 9 ).The predicted label for an image is simply the one with the highest probability."
      ]
    },
    {
      "cell_type": "code",
      "metadata": {
        "id": "9RoHc0cvlQ4m"
      },
      "source": [
        "import torch.nn as nn\n",
        "\n",
        "input_size = 28 * 28\n",
        "num_classes = 10 \n",
        "\n",
        "#Logistic Regression Model\n",
        "model = nn.Linear(input_size,num_classes)"
      ],
      "execution_count": null,
      "outputs": []
    },
    {
      "cell_type": "markdown",
      "metadata": {
        "id": "MSNQyCY_lvAL"
      },
      "source": [
        "Of course, this model is lot larger than previous model in terms of the number of parameters. lets take a look at the weights and biases"
      ]
    },
    {
      "cell_type": "code",
      "metadata": {
        "colab": {
          "base_uri": "https://localhost:8080/"
        },
        "id": "XyOBBd7wmHUy",
        "outputId": "411f664e-11ea-461c-ef6f-6977b8f72ec9"
      },
      "source": [
        "print (model.weight.shape)\n",
        "model.weight"
      ],
      "execution_count": null,
      "outputs": [
        {
          "output_type": "stream",
          "name": "stdout",
          "text": [
            "torch.Size([10, 784])\n"
          ]
        },
        {
          "output_type": "execute_result",
          "data": {
            "text/plain": [
              "Parameter containing:\n",
              "tensor([[-0.0347,  0.0204, -0.0040,  ..., -0.0344, -0.0186,  0.0318],\n",
              "        [ 0.0012,  0.0021,  0.0164,  ..., -0.0168, -0.0065, -0.0195],\n",
              "        [-0.0214,  0.0356, -0.0043,  ..., -0.0048,  0.0296, -0.0266],\n",
              "        ...,\n",
              "        [ 0.0192, -0.0027, -0.0108,  ...,  0.0091, -0.0012, -0.0266],\n",
              "        [ 0.0211,  0.0012, -0.0186,  ..., -0.0291, -0.0335,  0.0314],\n",
              "        [ 0.0111,  0.0044,  0.0149,  ...,  0.0177, -0.0169,  0.0328]],\n",
              "       requires_grad=True)"
            ]
          },
          "metadata": {},
          "execution_count": 16
        }
      ]
    },
    {
      "cell_type": "code",
      "metadata": {
        "colab": {
          "base_uri": "https://localhost:8080/"
        },
        "id": "9yyj8dP5mVXX",
        "outputId": "90541daf-2ee6-4976-e6c9-06f1438b1f15"
      },
      "source": [
        "print (model.bias.shape)\n",
        "model.bias"
      ],
      "execution_count": null,
      "outputs": [
        {
          "output_type": "stream",
          "name": "stdout",
          "text": [
            "torch.Size([10])\n"
          ]
        },
        {
          "output_type": "execute_result",
          "data": {
            "text/plain": [
              "Parameter containing:\n",
              "tensor([-0.0088, -0.0198,  0.0199, -0.0170,  0.0013,  0.0140,  0.0176,  0.0355,\n",
              "         0.0133, -0.0301], requires_grad=True)"
            ]
          },
          "metadata": {},
          "execution_count": 17
        }
      ]
    },
    {
      "cell_type": "markdown",
      "metadata": {
        "id": "mMffnImSmdDS"
      },
      "source": [
        "Although there are a total of 7850 parameters here, conceptually, nothing has changes so far.Let's try and generate some outputs using our model. We'll take the first batch of 100 images from our dataset and pass them into our model."
      ]
    },
    {
      "cell_type": "code",
      "metadata": {
        "colab": {
          "base_uri": "https://localhost:8080/",
          "height": 505
        },
        "id": "pwFBWyFUnPiX",
        "outputId": "0604b97c-6867-474e-e494-b50fa6be1528"
      },
      "source": [
        "for images, labels in train_loader:\n",
        "  print(labels)\n",
        "  print(images.shape)\n",
        "  outputs = model(images)\n",
        "  break"
      ],
      "execution_count": null,
      "outputs": [
        {
          "output_type": "stream",
          "name": "stdout",
          "text": [
            "tensor([7, 5, 2, 9, 3, 3, 7, 1, 9, 7, 4, 1, 4, 9, 7, 2, 8, 0, 0, 0, 6, 4, 3, 6,\n",
            "        0, 3, 7, 9, 5, 4, 6, 1, 0, 9, 4, 7, 5, 7, 7, 0, 4, 7, 7, 5, 5, 6, 5, 2,\n",
            "        0, 0, 6, 5, 4, 5, 6, 8, 9, 0, 5, 4, 0, 4, 2, 7, 7, 8, 7, 7, 7, 8, 1, 2,\n",
            "        4, 7, 2, 9, 4, 4, 8, 8, 3, 3, 0, 9, 4, 4, 2, 6, 7, 2, 3, 7, 2, 4, 7, 7,\n",
            "        5, 4, 6, 2, 2, 6, 7, 2, 6, 6, 2, 0, 2, 4, 7, 7, 8, 3, 4, 8, 4, 1, 9, 1,\n",
            "        0, 3, 3, 1, 6, 8, 1, 0])\n",
            "torch.Size([128, 1, 28, 28])\n"
          ]
        },
        {
          "output_type": "error",
          "ename": "RuntimeError",
          "evalue": "ignored",
          "traceback": [
            "\u001b[0;31m---------------------------------------------------------------------------\u001b[0m",
            "\u001b[0;31mRuntimeError\u001b[0m                              Traceback (most recent call last)",
            "\u001b[0;32m<ipython-input-19-a8c0fa89d43a>\u001b[0m in \u001b[0;36m<module>\u001b[0;34m()\u001b[0m\n\u001b[1;32m      2\u001b[0m   \u001b[0mprint\u001b[0m\u001b[0;34m(\u001b[0m\u001b[0mlabels\u001b[0m\u001b[0;34m)\u001b[0m\u001b[0;34m\u001b[0m\u001b[0;34m\u001b[0m\u001b[0m\n\u001b[1;32m      3\u001b[0m   \u001b[0mprint\u001b[0m\u001b[0;34m(\u001b[0m\u001b[0mimages\u001b[0m\u001b[0;34m.\u001b[0m\u001b[0mshape\u001b[0m\u001b[0;34m)\u001b[0m\u001b[0;34m\u001b[0m\u001b[0;34m\u001b[0m\u001b[0m\n\u001b[0;32m----> 4\u001b[0;31m   \u001b[0moutputs\u001b[0m \u001b[0;34m=\u001b[0m \u001b[0mmodel\u001b[0m\u001b[0;34m(\u001b[0m\u001b[0mimages\u001b[0m\u001b[0;34m)\u001b[0m\u001b[0;34m\u001b[0m\u001b[0;34m\u001b[0m\u001b[0m\n\u001b[0m\u001b[1;32m      5\u001b[0m   \u001b[0;32mbreak\u001b[0m\u001b[0;34m\u001b[0m\u001b[0;34m\u001b[0m\u001b[0m\n",
            "\u001b[0;32m/usr/local/lib/python3.7/dist-packages/torch/nn/modules/module.py\u001b[0m in \u001b[0;36m_call_impl\u001b[0;34m(self, *input, **kwargs)\u001b[0m\n\u001b[1;32m   1049\u001b[0m         if not (self._backward_hooks or self._forward_hooks or self._forward_pre_hooks or _global_backward_hooks\n\u001b[1;32m   1050\u001b[0m                 or _global_forward_hooks or _global_forward_pre_hooks):\n\u001b[0;32m-> 1051\u001b[0;31m             \u001b[0;32mreturn\u001b[0m \u001b[0mforward_call\u001b[0m\u001b[0;34m(\u001b[0m\u001b[0;34m*\u001b[0m\u001b[0minput\u001b[0m\u001b[0;34m,\u001b[0m \u001b[0;34m**\u001b[0m\u001b[0mkwargs\u001b[0m\u001b[0;34m)\u001b[0m\u001b[0;34m\u001b[0m\u001b[0;34m\u001b[0m\u001b[0m\n\u001b[0m\u001b[1;32m   1052\u001b[0m         \u001b[0;31m# Do not call functions when jit is used\u001b[0m\u001b[0;34m\u001b[0m\u001b[0;34m\u001b[0m\u001b[0;34m\u001b[0m\u001b[0m\n\u001b[1;32m   1053\u001b[0m         \u001b[0mfull_backward_hooks\u001b[0m\u001b[0;34m,\u001b[0m \u001b[0mnon_full_backward_hooks\u001b[0m \u001b[0;34m=\u001b[0m \u001b[0;34m[\u001b[0m\u001b[0;34m]\u001b[0m\u001b[0;34m,\u001b[0m \u001b[0;34m[\u001b[0m\u001b[0;34m]\u001b[0m\u001b[0;34m\u001b[0m\u001b[0;34m\u001b[0m\u001b[0m\n",
            "\u001b[0;32m/usr/local/lib/python3.7/dist-packages/torch/nn/modules/linear.py\u001b[0m in \u001b[0;36mforward\u001b[0;34m(self, input)\u001b[0m\n\u001b[1;32m     94\u001b[0m \u001b[0;34m\u001b[0m\u001b[0m\n\u001b[1;32m     95\u001b[0m     \u001b[0;32mdef\u001b[0m \u001b[0mforward\u001b[0m\u001b[0;34m(\u001b[0m\u001b[0mself\u001b[0m\u001b[0;34m,\u001b[0m \u001b[0minput\u001b[0m\u001b[0;34m:\u001b[0m \u001b[0mTensor\u001b[0m\u001b[0;34m)\u001b[0m \u001b[0;34m->\u001b[0m \u001b[0mTensor\u001b[0m\u001b[0;34m:\u001b[0m\u001b[0;34m\u001b[0m\u001b[0;34m\u001b[0m\u001b[0m\n\u001b[0;32m---> 96\u001b[0;31m         \u001b[0;32mreturn\u001b[0m \u001b[0mF\u001b[0m\u001b[0;34m.\u001b[0m\u001b[0mlinear\u001b[0m\u001b[0;34m(\u001b[0m\u001b[0minput\u001b[0m\u001b[0;34m,\u001b[0m \u001b[0mself\u001b[0m\u001b[0;34m.\u001b[0m\u001b[0mweight\u001b[0m\u001b[0;34m,\u001b[0m \u001b[0mself\u001b[0m\u001b[0;34m.\u001b[0m\u001b[0mbias\u001b[0m\u001b[0;34m)\u001b[0m\u001b[0;34m\u001b[0m\u001b[0;34m\u001b[0m\u001b[0m\n\u001b[0m\u001b[1;32m     97\u001b[0m \u001b[0;34m\u001b[0m\u001b[0m\n\u001b[1;32m     98\u001b[0m     \u001b[0;32mdef\u001b[0m \u001b[0mextra_repr\u001b[0m\u001b[0;34m(\u001b[0m\u001b[0mself\u001b[0m\u001b[0;34m)\u001b[0m \u001b[0;34m->\u001b[0m \u001b[0mstr\u001b[0m\u001b[0;34m:\u001b[0m\u001b[0;34m\u001b[0m\u001b[0;34m\u001b[0m\u001b[0m\n",
            "\u001b[0;32m/usr/local/lib/python3.7/dist-packages/torch/nn/functional.py\u001b[0m in \u001b[0;36mlinear\u001b[0;34m(input, weight, bias)\u001b[0m\n\u001b[1;32m   1845\u001b[0m     \u001b[0;32mif\u001b[0m \u001b[0mhas_torch_function_variadic\u001b[0m\u001b[0;34m(\u001b[0m\u001b[0minput\u001b[0m\u001b[0;34m,\u001b[0m \u001b[0mweight\u001b[0m\u001b[0;34m)\u001b[0m\u001b[0;34m:\u001b[0m\u001b[0;34m\u001b[0m\u001b[0;34m\u001b[0m\u001b[0m\n\u001b[1;32m   1846\u001b[0m         \u001b[0;32mreturn\u001b[0m \u001b[0mhandle_torch_function\u001b[0m\u001b[0;34m(\u001b[0m\u001b[0mlinear\u001b[0m\u001b[0;34m,\u001b[0m \u001b[0;34m(\u001b[0m\u001b[0minput\u001b[0m\u001b[0;34m,\u001b[0m \u001b[0mweight\u001b[0m\u001b[0;34m)\u001b[0m\u001b[0;34m,\u001b[0m \u001b[0minput\u001b[0m\u001b[0;34m,\u001b[0m \u001b[0mweight\u001b[0m\u001b[0;34m,\u001b[0m \u001b[0mbias\u001b[0m\u001b[0;34m=\u001b[0m\u001b[0mbias\u001b[0m\u001b[0;34m)\u001b[0m\u001b[0;34m\u001b[0m\u001b[0;34m\u001b[0m\u001b[0m\n\u001b[0;32m-> 1847\u001b[0;31m     \u001b[0;32mreturn\u001b[0m \u001b[0mtorch\u001b[0m\u001b[0;34m.\u001b[0m\u001b[0m_C\u001b[0m\u001b[0;34m.\u001b[0m\u001b[0m_nn\u001b[0m\u001b[0;34m.\u001b[0m\u001b[0mlinear\u001b[0m\u001b[0;34m(\u001b[0m\u001b[0minput\u001b[0m\u001b[0;34m,\u001b[0m \u001b[0mweight\u001b[0m\u001b[0;34m,\u001b[0m \u001b[0mbias\u001b[0m\u001b[0;34m)\u001b[0m\u001b[0;34m\u001b[0m\u001b[0;34m\u001b[0m\u001b[0m\n\u001b[0m\u001b[1;32m   1848\u001b[0m \u001b[0;34m\u001b[0m\u001b[0m\n\u001b[1;32m   1849\u001b[0m \u001b[0;34m\u001b[0m\u001b[0m\n",
            "\u001b[0;31mRuntimeError\u001b[0m: mat1 and mat2 shapes cannot be multiplied (3584x28 and 784x10)"
          ]
        }
      ]
    },
    {
      "cell_type": "markdown",
      "metadata": {
        "id": "43q2pKQbn21d"
      },
      "source": [
        "The code above leads to an error because our input data does not have the right shape. Our images are of the shape 1x28x28, but we need them to be vectors of size 784, i.e., we need to flatten them. We'll use the `.reshape` method of a tensor, which will allow us to efficiently 'view' each image as a flat vector without really creating a copy of the underlying data. To include this additional functionality within our model, we need to define a custom model by extending the nn.Module class from PyTorch\n",
        "\n",
        "A class in python provides a \"blueprint\" for creating objects. Lets look at an example of defining a new class in python"
      ]
    },
    {
      "cell_type": "code",
      "metadata": {
        "colab": {
          "base_uri": "https://localhost:8080/"
        },
        "id": "3Cp5BhvILY21",
        "outputId": "66454273-2e98-4118-925f-48573307e367"
      },
      "source": [
        "images.shape"
      ],
      "execution_count": null,
      "outputs": [
        {
          "output_type": "execute_result",
          "data": {
            "text/plain": [
              "torch.Size([128, 1, 28, 28])"
            ]
          },
          "metadata": {},
          "execution_count": 20
        }
      ]
    },
    {
      "cell_type": "code",
      "metadata": {
        "colab": {
          "base_uri": "https://localhost:8080/"
        },
        "id": "UH541kNOLcmX",
        "outputId": "3c3b644c-e4ee-4fbe-f749-ca343429f7fe"
      },
      "source": [
        "images.reshape(128,784).shape\n"
      ],
      "execution_count": null,
      "outputs": [
        {
          "output_type": "execute_result",
          "data": {
            "text/plain": [
              "torch.Size([128, 784])"
            ]
          },
          "metadata": {},
          "execution_count": 21
        }
      ]
    },
    {
      "cell_type": "markdown",
      "metadata": {
        "id": "qZSNx1G7MhV4"
      },
      "source": [
        "Let's extend the nn.Module class from PyTorch to define a custom model"
      ]
    },
    {
      "cell_type": "code",
      "metadata": {
        "id": "dILotDAtLONp"
      },
      "source": [
        "class MNISTModel(nn.Module):\n",
        "  #class constructor\n",
        "  def __init__(self):\n",
        "    super().__init__()\n",
        "    self.linear = nn.Linear(input_size,num_classes)\n",
        "\n",
        "  def forward(self, xb):\n",
        "    xb = xb.reshape(-1,784)\n",
        "    out = self.linear(xb)\n",
        "    return out\n",
        "\n",
        "model = MNISTModel()"
      ],
      "execution_count": null,
      "outputs": []
    },
    {
      "cell_type": "markdown",
      "metadata": {
        "id": "GnODEpsTNtXf"
      },
      "source": [
        "Inside the `__init__` constructor method, we instantiate the weights and biases using nn.Linear. And inside the `forward` method, which is invoked when we pass a batch a inputs to the model, we flatten the input tensor and pass it into `self.linear`.\n",
        "\n",
        "**Note** : the model no longer has `.weight` and `.bias` attributes(as they are now inside the `.linear` attribute), but it does have a `.parameters` method that returns a list containing the weights and bias."
      ]
    },
    {
      "cell_type": "code",
      "metadata": {
        "colab": {
          "base_uri": "https://localhost:8080/"
        },
        "id": "TuLixxr8QOv_",
        "outputId": "4d1c3c97-ba8e-427e-fa11-99f253dbeb31"
      },
      "source": [
        "print(model.linear.weight.shape,model.linear.bias.shape)\n",
        "list(model.parameters())"
      ],
      "execution_count": null,
      "outputs": [
        {
          "output_type": "stream",
          "name": "stdout",
          "text": [
            "torch.Size([10, 784]) torch.Size([10])\n"
          ]
        },
        {
          "output_type": "execute_result",
          "data": {
            "text/plain": [
              "[Parameter containing:\n",
              " tensor([[-0.0338,  0.0301, -0.0317,  ..., -0.0086, -0.0062, -0.0256],\n",
              "         [-0.0341,  0.0091,  0.0170,  ..., -0.0255, -0.0111, -0.0280],\n",
              "         [-0.0121, -0.0021,  0.0357,  ...,  0.0054, -0.0206, -0.0323],\n",
              "         ...,\n",
              "         [-0.0043,  0.0281,  0.0252,  ..., -0.0072,  0.0151,  0.0010],\n",
              "         [ 0.0125,  0.0177, -0.0042,  ...,  0.0213,  0.0170, -0.0316],\n",
              "         [-0.0195, -0.0263,  0.0108,  ..., -0.0336, -0.0016,  0.0225]],\n",
              "        requires_grad=True), Parameter containing:\n",
              " tensor([ 0.0072,  0.0071,  0.0052, -0.0112,  0.0027, -0.0342, -0.0180, -0.0164,\n",
              "         -0.0099,  0.0030], requires_grad=True)]"
            ]
          },
          "metadata": {},
          "execution_count": 23
        }
      ]
    },
    {
      "cell_type": "markdown",
      "metadata": {
        "id": "FVXjeY_XQ2kg"
      },
      "source": [
        "Use new custom model in the same way as above "
      ]
    },
    {
      "cell_type": "code",
      "metadata": {
        "colab": {
          "base_uri": "https://localhost:8080/"
        },
        "id": "tSMMwgi42bHE",
        "outputId": "070ccde2-6305-4c1f-de58-0cd6d75a4bcf"
      },
      "source": [
        "for images, labels in train_loader:\n",
        "  outputs = model(images)\n",
        "  break\n",
        "print('outputs.shape : ',outputs.shape)\n",
        "print('Sample outputs : \\n',outputs[:2].data)"
      ],
      "execution_count": null,
      "outputs": [
        {
          "output_type": "stream",
          "name": "stdout",
          "text": [
            "outputs.shape :  torch.Size([128, 10])\n",
            "Sample outputs : \n",
            " tensor([[-0.2433, -0.0106,  0.1387,  0.0495, -0.2793,  0.0337, -0.1370, -0.0974,\n",
            "         -0.0288,  0.2998],\n",
            "        [-0.3025, -0.3151,  0.1161, -0.1031, -0.1016,  0.0881, -0.0536,  0.1837,\n",
            "         -0.3550,  0.1258]])\n"
          ]
        }
      ]
    },
    {
      "cell_type": "markdown",
      "metadata": {
        "id": "RHk84nC_48tV"
      },
      "source": [
        "For each of the 100 input images, we get 10 outputs, one for each class. As discussed earlier, we'd like these outputs to represent probabilities. Each output row's elements must lie between 0 to 1 and addupto 1, which is not the case.\n",
        "\n",
        "To convert the output rowas into probabilities , we use the softmax function."
      ]
    },
    {
      "cell_type": "code",
      "metadata": {
        "id": "1KdS9tJcBJZQ"
      },
      "source": [
        "import math\n",
        "import numpy as np\n",
        "\n",
        "\n",
        "def softmax(outputs):\n",
        "  probsList = []\n",
        "  \n",
        "  \n",
        "  for output in outputs:\n",
        "    esum = 0\n",
        "    probs = []\n",
        "    for val in output:\n",
        "        esum += math.exp(val)\n",
        "    for val in output:   \n",
        "        probs.append(round((math.exp(val)) / esum,4))\n",
        "      \n",
        "    probsList.append( np.array(probs))\n",
        "  arr = np.array(probsList)\n",
        "  return  torch.from_numpy(arr)"
      ],
      "execution_count": null,
      "outputs": []
    },
    {
      "cell_type": "code",
      "metadata": {
        "id": "PmIz6wlKKFLt"
      },
      "source": [
        "import torch.nn.functional as F"
      ],
      "execution_count": null,
      "outputs": []
    },
    {
      "cell_type": "code",
      "metadata": {
        "colab": {
          "base_uri": "https://localhost:8080/"
        },
        "id": "jAtcoVelKWQC",
        "outputId": "a6ac581c-bf2a-4f4e-ba8f-83b5b2200c17"
      },
      "source": [
        "# Apply Softmax for each output row\n",
        "probs_1 = F.softmax(outputs,dim=1)\n",
        "\n",
        "probs_2 = softmax(outputs,dim=1)\n",
        "probs_1,probs_2"
      ],
      "execution_count": null,
      "outputs": [
        {
          "output_type": "execute_result",
          "data": {
            "text/plain": [
              "(tensor([[0.0795, 0.1003, 0.1165,  ..., 0.0920, 0.0985, 0.1368],\n",
              "         [0.0780, 0.0770, 0.1185,  ..., 0.1268, 0.0740, 0.1197],\n",
              "         [0.0793, 0.0853, 0.1469,  ..., 0.1142, 0.1191, 0.1116],\n",
              "         ...,\n",
              "         [0.0755, 0.1073, 0.0854,  ..., 0.1250, 0.1048, 0.0959],\n",
              "         [0.0727, 0.0618, 0.1035,  ..., 0.1718, 0.1038, 0.0912],\n",
              "         [0.0891, 0.0911, 0.1004,  ..., 0.1129, 0.0866, 0.1049]],\n",
              "        grad_fn=<SoftmaxBackward>),\n",
              " tensor([[0.0795, 0.1003, 0.1165,  ..., 0.0920, 0.0985, 0.1368],\n",
              "         [0.0780, 0.0770, 0.1185,  ..., 0.1268, 0.0740, 0.1197],\n",
              "         [0.0793, 0.0853, 0.1469,  ..., 0.1142, 0.1191, 0.1116],\n",
              "         ...,\n",
              "         [0.0755, 0.1073, 0.0854,  ..., 0.1250, 0.1048, 0.0959],\n",
              "         [0.0727, 0.0618, 0.1035,  ..., 0.1718, 0.1038, 0.0912],\n",
              "         [0.0891, 0.0911, 0.1004,  ..., 0.1129, 0.0866, 0.1049]],\n",
              "        dtype=torch.float64))"
            ]
          },
          "metadata": {},
          "execution_count": 27
        }
      ]
    },
    {
      "cell_type": "markdown",
      "metadata": {
        "id": "O9uv0Jv_sOg7"
      },
      "source": [
        "Finally , we can determine the predicted label for each image by simply choosing the index of the element with the highest probability in each output row. We can do this using the `torch.max`, which returns each row's largest element and the corresponding index."
      ]
    },
    {
      "cell_type": "code",
      "metadata": {
        "colab": {
          "base_uri": "https://localhost:8080/"
        },
        "id": "VkXYRHUsr4DG",
        "outputId": "ae577ed2-21c2-4c5e-80f6-66cfa4b32d64"
      },
      "source": [
        "max_probs,preds = torch.max(probs_2, dim = 1)\n",
        "print(preds)\n",
        "print(max_probs)"
      ],
      "execution_count": null,
      "outputs": [
        {
          "output_type": "stream",
          "name": "stdout",
          "text": [
            "tensor([9, 7, 2, 8, 2, 7, 9, 7, 7, 8, 4, 7, 7, 2, 5, 8, 6, 7, 7, 7, 2, 3, 7, 9,\n",
            "        7, 9, 8, 7, 1, 7, 7, 9, 7, 8, 6, 9, 7, 9, 9, 7, 7, 8, 7, 7, 9, 9, 4, 7,\n",
            "        9, 2, 9, 7, 8, 9, 9, 7, 8, 2, 7, 8, 8, 7, 2, 9, 7, 7, 1, 7, 8, 1, 6, 2,\n",
            "        8, 9, 8, 2, 7, 8, 8, 7, 7, 3, 9, 9, 6, 5, 9, 9, 7, 9, 7, 7, 2, 7, 2, 2,\n",
            "        8, 9, 7, 5, 8, 8, 9, 7, 8, 2, 9, 8, 9, 5, 7, 7, 6, 7, 7, 5, 8, 8, 7, 7,\n",
            "        3, 9, 7, 2, 8, 6, 7, 4])\n",
            "tensor([0.1368, 0.1268, 0.1469, 0.1549, 0.1298, 0.1549, 0.1312, 0.1582, 0.1424,\n",
            "        0.1176, 0.1137, 0.1360, 0.1732, 0.1223, 0.1172, 0.1316, 0.1201, 0.1306,\n",
            "        0.1359, 0.1303, 0.1373, 0.1284, 0.1264, 0.1170, 0.1191, 0.1476, 0.1682,\n",
            "        0.1585, 0.1144, 0.1431, 0.1410, 0.1596, 0.1306, 0.1447, 0.1267, 0.1177,\n",
            "        0.1218, 0.1404, 0.1193, 0.1413, 0.1352, 0.1240, 0.1241, 0.1531, 0.1329,\n",
            "        0.1259, 0.1212, 0.1407, 0.1273, 0.1166, 0.1246, 0.1518, 0.1341, 0.1328,\n",
            "        0.1288, 0.1565, 0.1374, 0.1339, 0.1559, 0.1408, 0.1414, 0.1433, 0.1484,\n",
            "        0.1213, 0.1464, 0.1315, 0.1126, 0.1312, 0.1458, 0.1244, 0.1392, 0.1134,\n",
            "        0.1566, 0.1273, 0.1274, 0.1406, 0.1642, 0.1526, 0.1428, 0.1266, 0.1239,\n",
            "        0.1427, 0.1422, 0.1437, 0.1285, 0.1196, 0.1153, 0.1225, 0.1285, 0.1361,\n",
            "        0.1625, 0.1716, 0.1619, 0.1408, 0.1429, 0.1265, 0.1186, 0.1326, 0.1103,\n",
            "        0.1173, 0.1238, 0.1527, 0.1204, 0.1359, 0.1366, 0.1420, 0.1331, 0.1190,\n",
            "        0.1441, 0.1321, 0.1342, 0.1336, 0.1137, 0.1394, 0.1124, 0.1419, 0.1251,\n",
            "        0.1266, 0.1529, 0.1500, 0.1216, 0.1402, 0.1170, 0.1236, 0.1294, 0.1269,\n",
            "        0.1718, 0.1261], dtype=torch.float64)\n"
          ]
        }
      ]
    },
    {
      "cell_type": "markdown",
      "metadata": {
        "id": "tFwsczkCtoLd"
      },
      "source": [
        "The numbers printed above are the predicted labels for the first batch of training images. Let's compare it with actual labels"
      ]
    },
    {
      "cell_type": "code",
      "metadata": {
        "colab": {
          "base_uri": "https://localhost:8080/"
        },
        "id": "B0LBzS7duFCV",
        "outputId": "4ba5498b-3faa-49ef-edf2-85df99893419"
      },
      "source": [
        "labels"
      ],
      "execution_count": null,
      "outputs": [
        {
          "output_type": "execute_result",
          "data": {
            "text/plain": [
              "tensor([1, 6, 0, 7, 5, 4, 8, 5, 0, 9, 7, 2, 7, 1, 9, 9, 3, 3, 6, 3, 0, 6, 8, 7,\n",
              "        9, 1, 2, 5, 3, 7, 9, 2, 5, 9, 4, 3, 5, 2, 9, 3, 2, 9, 6, 6, 9, 1, 4, 7,\n",
              "        4, 1, 1, 6, 5, 3, 8, 8, 3, 8, 5, 9, 4, 6, 0, 8, 7, 4, 9, 5, 7, 9, 5, 5,\n",
              "        8, 6, 1, 0, 2, 9, 8, 5, 3, 2, 8, 7, 5, 7, 0, 2, 0, 1, 0, 3, 0, 3, 0, 2,\n",
              "        7, 1, 1, 2, 1, 7, 9, 3, 4, 6, 1, 5, 7, 4, 4, 2, 3, 7, 6, 3, 5, 9, 8, 2,\n",
              "        6, 1, 6, 1, 2, 5, 0, 5])"
            ]
          },
          "metadata": {},
          "execution_count": 29
        }
      ]
    },
    {
      "cell_type": "markdown",
      "metadata": {
        "id": "u1puCORxuKhr"
      },
      "source": [
        "Most of the predicted labels are different from the actual labels. That's because we have started with randomly initialized weights and biases. we need to train the model, i.e. adjust the weights using gradient decent to make better predictions. "
      ]
    },
    {
      "cell_type": "markdown",
      "metadata": {
        "id": "ehEVm6mow4a2"
      },
      "source": [
        "### Evaluation Metric and Loss Function\n"
      ]
    },
    {
      "cell_type": "markdown",
      "metadata": {
        "id": "WbNwmExD3GjW"
      },
      "source": [
        "As with Linear Regression, we need a way to evaluate how well our model is performing. A natural way to do this would be to find the percentage of labels that were predicted correctly , i.e., the **accuracy** of the predictions"
      ]
    },
    {
      "cell_type": "code",
      "metadata": {
        "id": "oN9fJ7KVw3rb"
      },
      "source": [
        "def accuracy(outputs, labels):\n",
        "  _,preds = torch.max(outputs, dim=1)\n",
        "  return torch.tensor(torch.sum(preds == labels).item() / len(preds))"
      ],
      "execution_count": null,
      "outputs": []
    },
    {
      "cell_type": "markdown",
      "metadata": {
        "id": "vHKxnzpw8_km"
      },
      "source": [
        "the `==` operator performs an element wise comparision of two tensors with the same shape and returns a tensor of same shape, containing `True` for unequal elements and `False` for equal elements. Passing the result to `torch.sum` returns the number of labels that were predicted correctly.Finally , we divide by the total number of images to get the accuracy.\n",
        "\n",
        "Note: softmax need not be applied to the outputs since its results have the same relative order. this is because '$e^x$' is an increasing function,i.e., if y1 > y2, then $e^{y1}$ > $e^{y2}$. The same  holds after avaeraging out the values to get the softmax. \n",
        "\n",
        "Let's calculate the accuracy of the current model on the first batch of data."
      ]
    },
    {
      "cell_type": "code",
      "metadata": {
        "colab": {
          "base_uri": "https://localhost:8080/"
        },
        "id": "YG7GqrpbGzYo",
        "outputId": "98e9c810-70c0-4fc1-9f7e-c06578e2a221"
      },
      "source": [
        "accuracy(outputs,labels)"
      ],
      "execution_count": null,
      "outputs": [
        {
          "output_type": "execute_result",
          "data": {
            "text/plain": [
              "tensor(0.0938)"
            ]
          },
          "metadata": {},
          "execution_count": 31
        }
      ]
    },
    {
      "cell_type": "markdown",
      "metadata": {
        "id": "tvL2kdoxG89E"
      },
      "source": [
        "Accuracy is an excellent way for us to evaluate the model.However, we can't use it as a loss function for optimizing our model using the gradient descent for tht following reasons:\n",
        "1. It's not differentiable function. torch.max and == are both noncontinuous and non differentiable operations , so we can't use the accuracy for computing gradients w.r.t the weights and biases.\n",
        "2. It doesn't take into account the actual probabilities predicted by the model, so it can't provide sufficient feedback for incremental improvements.\n",
        "\n",
        "For these reasons accuracy is often used as an **evaluation metric** for classification,but not as a loss function. A commonly used loss function for classification problem is the **cross-entropy**,\n",
        "\n",
        "\\begin{align}\n",
        "\\mathbf{D(\\hat{y},y)} = -\\sum_{j}{y_j}\\ln{\\hat{y_j}}\n",
        "\\end{align}\n",
        " \n",
        "As per this formula,\n",
        "- for each output row, pick the predicted probability for the correct label. E.g., if the predicted probabilities for an image are [0.1,0.3,0.2,...] and the correct label is 1, we pick the corresponding element 0.3 and ignore the rest. \n",
        "- Then, take the logarithm of the picked probability. If the probability is high i.e., close to 1, then its logarithm is avery small negative value, close to 0. And if the probability is low (close to 0), then the logarithm is a very large negative value. We also multiply the result by -1 , which results in a large positive value of the loss for poor predictions.\n",
        "- Finally, take the average of the cross  entropy across all the output rows to get the overall loss for a batch of data.\n",
        "\n",
        "Unlike Accuracy, cross-entropy is a continuous and differentiable function. It also provides useful feedback for incremental improvements in the model (a slightly higher probability for the correct label leads to a lower loss). These two factors make cross-entropy a better choice for the loss function.\n",
        "\n",
        "As you might expect, PyTorch provides an efficient and tensor-friendly implementation of cross-entropy as part of the `torch.nn.functional` package. Moreover, it also performs softmax internally, so the model's outputs can be passed directly without converting them into probabilities\n"
      ]
    },
    {
      "cell_type": "code",
      "metadata": {
        "id": "JuRY6__VdjLW"
      },
      "source": [
        "loss_fn = F.cross_entropy"
      ],
      "execution_count": null,
      "outputs": []
    },
    {
      "cell_type": "code",
      "metadata": {
        "colab": {
          "base_uri": "https://localhost:8080/"
        },
        "id": "45KOHSOTduxo",
        "outputId": "84086d89-cbdd-491f-cc6a-364f9224f77a"
      },
      "source": [
        "# Loss for current batch of data\n",
        "loss = loss_fn(outputs,labels)\n",
        "print(loss)"
      ],
      "execution_count": null,
      "outputs": [
        {
          "output_type": "stream",
          "name": "stdout",
          "text": [
            "tensor(2.3139, grad_fn=<NllLossBackward>)\n"
          ]
        }
      ]
    },
    {
      "cell_type": "markdown",
      "metadata": {
        "id": "dTN7x0I4eEpq"
      },
      "source": [
        "We know that cross-entropy is the negative logarithm of the predicted probability of the correct label averaged over all training samples. Therefore, one way to interpret the resulting number e.g. `2.31` is look as $e^{-2.31}$ which is around `0.1` as the predicted probability of the correct label, on average. *Lower the loss, Better the model*."
      ]
    },
    {
      "cell_type": "markdown",
      "metadata": {
        "id": "xYrZMJ8wfP6K"
      },
      "source": [
        "### Training the model\n",
        "\n",
        "After defining the dataloaders, model, loss function and optimizer, we are ready to train the model.The training process is identical to linear regression with the addition of a \"validation phase\" to evaluate the model in each epoch. Here's what it looks like in pseudocode:\n",
        "\n",
        "```\n",
        "for epoch in range(num_epochs )\n",
        "  # Training phase\n",
        "  for batch in train_loader:\n",
        "    # Generate predictions\n",
        "    # Calculate loss\n",
        "    # Compute gradients\n",
        "    # Update weights\n",
        "    # Reset gradients\n",
        "  \n",
        "  # Validation phase\n",
        "  for batch in val_loader:\n",
        "    # Generate predictions\n",
        "    # Calculate loss\n",
        "    # Calculate metrics (accuracy etc.)\n",
        "  \n",
        "  # Calculate average validation loss & metrics \n",
        "\n",
        "  # Log epoch, loss & metrics for inspection\n",
        "\n",
        "```\n",
        "Some parts of the training loop are specific,  the specific problem we're solving(e.g. loss function, metrics etc.) whereas others are generic and can be applied to any deep learning problem.\n",
        "We'll include the problem-independent parts within a function called `fit`, which will be used to train the model. The problem-specific parts will be implemented by adding new methods to the nn.Module class.  "
      ]
    },
    {
      "cell_type": "code",
      "metadata": {
        "id": "Ebl4mxSy0KGs"
      },
      "source": [
        "def fit(epochs,lr,model,train_loader,val_loader,opt_func=torch.optim.SGD):\n",
        "  optimizer = opt_func(model.parameters(),lr)\n",
        "  history = [] # for recording epoch-wise results\n",
        "\n",
        "  for epoch in range(epochs):\n",
        "\n",
        "    # Training Phase\n",
        "    for batch in train_loader:\n",
        "\n",
        "        # Generate predictions and Calculate loss\n",
        "        loss = model.training_step()\n",
        "\n",
        "        # Compute gradients\n",
        "        loss.backward()\n",
        "\n",
        "        # Update weights\n",
        "        optimizer.step()\n",
        "\n",
        "        # Reset gradients\n",
        "        optimizer.zero_grad()\n",
        "\n",
        "    # Validation phase\n",
        "    for batch in val_loader:\n",
        "        # Generate predictions and Calculate loss and accuracy\n",
        "        result = evaluation(model,val_loader)\n",
        "        \n",
        "        # Calculate metrics (accuracy etc.)\n",
        "        model.epoch_end(epoch,result)\n",
        "        history.append(result)\n",
        "    \n",
        "  return history \n",
        "    \n"
      ],
      "execution_count": null,
      "outputs": []
    },
    {
      "cell_type": "code",
      "metadata": {
        "colab": {
          "base_uri": "https://localhost:8080/",
          "height": 128
        },
        "id": "Lkk_MBUjwcj8",
        "outputId": "879fb68e-67f8-4495-9336-dc52a451cda2"
      },
      "source": [
        "for epoch in range(num_epochs ):\n",
        "  # Training phase\n",
        "  for batch in train_loader:\n",
        "\n",
        "    images, labels = batch\n",
        "    # Generate predictions\n",
        "    outputs = model(images)\n",
        "\n",
        "    # Calculate loss\n",
        "    loss = loss_fn(outputs,labels)\n",
        "\n",
        "    # Compute gradients\n",
        "    loss.backward()\n",
        "\n",
        "    # Update weights\n",
        "    model.forward(images)\n",
        "\n",
        "    # Reset gradients\n",
        "        model.linear.weight.shape\n",
        "    model.linear.bias.shape\n",
        "\n",
        "  # Validation phase\n",
        "  for batch in val_loader:\n",
        "\n",
        "    images, labels = batch\n",
        "    # Generate predictions\n",
        "    outputs = model(images)\n",
        "\n",
        "    # Calculate loss\n",
        "    loss = loss_fn(outputs,labels)\n",
        "\n",
        "    # Calculate metrics (accuracy etc.)\n",
        "    print(accuracy(outputs,labels))\n",
        "  \n",
        "  # Calculate average validation loss & metrics \n",
        "\n",
        "  # Log epoch, loss & metrics for inspection"
      ],
      "execution_count": null,
      "outputs": [
        {
          "output_type": "error",
          "ename": "SyntaxError",
          "evalue": "ignored",
          "traceback": [
            "\u001b[0;36m  File \u001b[0;32m\"<ipython-input-34-16c646cb242d>\"\u001b[0;36m, line \u001b[0;32m1\u001b[0m\n\u001b[0;31m    for epoch in range(num_epochs )\u001b[0m\n\u001b[0m                                   ^\u001b[0m\n\u001b[0;31mSyntaxError\u001b[0m\u001b[0;31m:\u001b[0m invalid syntax\n"
          ]
        }
      ]
    }
  ]
}