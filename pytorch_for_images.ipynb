{
  "nbformat": 4,
  "nbformat_minor": 0,
  "metadata": {
    "colab": {
      "name": "pytorch_for images.ipynb",
      "provenance": [],
      "authorship_tag": "ABX9TyOC2it1fwkL/TO7ZSwf3GPg",
      "include_colab_link": true
    },
    "kernelspec": {
      "name": "python3",
      "display_name": "Python 3"
    },
    "language_info": {
      "name": "python"
    }
  },
  "cells": [
    {
      "cell_type": "markdown",
      "metadata": {
        "id": "view-in-github",
        "colab_type": "text"
      },
      "source": [
        "<a href=\"https://colab.research.google.com/github/MadhuriMapari/MadhuriMapari/blob/main/pytorch_for_images.ipynb\" target=\"_parent\"><img src=\"https://colab.research.google.com/assets/colab-badge.svg\" alt=\"Open In Colab\"/></a>"
      ]
    },
    {
      "cell_type": "markdown",
      "metadata": {
        "id": "B-BY3KqCrhhE"
      },
      "source": [
        "# PyTorch for Image Data "
      ]
    },
    {
      "cell_type": "markdown",
      "metadata": {
        "id": "pwj77g0zrnkc"
      },
      "source": [
        "Practice \n",
        "1. Working with images in PyTorch\n",
        "2. Splitting a dataset into training, validation and test sets\n",
        "3. Creating PyTorch models with custom logic by extending the nn.Module class\n",
        "4. Interpreting model outputs as probabilities using softmax and picking labels\n",
        "5. Picking a useful evaluation metric (accuracy) and loss function (cross-entropy) for classification probles\n",
        "6. Setting up a training loop that also evaluates the model using the validation set \n",
        "7. Testing the model manually on randomly picked examples \n",
        "8. Saving and loading model checkpoints to avoid retraining from scratch"
      ]
    },
    {
      "cell_type": "markdown",
      "metadata": {
        "id": "a2swUvCvueJv"
      },
      "source": [
        "## Working with Image "
      ]
    },
    {
      "cell_type": "code",
      "metadata": {
        "id": "zIEhwuMNrSHz"
      },
      "source": [
        "import torch \n",
        "import torchvision \n",
        "from torchvision.datasets import MNIST "
      ],
      "execution_count": 16,
      "outputs": []
    },
    {
      "cell_type": "code",
      "metadata": {
        "id": "S0o2chVlvFje"
      },
      "source": [
        "dataset = MNIST(root='data/',download=True)"
      ],
      "execution_count": 17,
      "outputs": []
    },
    {
      "cell_type": "code",
      "metadata": {
        "colab": {
          "base_uri": "https://localhost:8080/"
        },
        "id": "OYRHlahovd3z",
        "outputId": "a962100b-e9e0-48df-9dda-6964d403ec72"
      },
      "source": [
        "len(dataset)"
      ],
      "execution_count": 18,
      "outputs": [
        {
          "output_type": "execute_result",
          "data": {
            "text/plain": [
              "60000"
            ]
          },
          "metadata": {},
          "execution_count": 18
        }
      ]
    },
    {
      "cell_type": "markdown",
      "metadata": {
        "id": "k20kAFY2vlMq"
      },
      "source": [
        "The dataset has 60000 images used to train the model. there is also an additional test test of 10000 images used for evaluating models and reporting matrics in papers and reports. We cancreate the test dataset using the MNIST class by passing train= False to constructor "
      ]
    },
    {
      "cell_type": "code",
      "metadata": {
        "id": "aw7YhlD9vhDe"
      },
      "source": [
        "test_dataset = MNIST(root='data/',download=False)"
      ],
      "execution_count": 19,
      "outputs": []
    },
    {
      "cell_type": "markdown",
      "metadata": {
        "id": "ptTVruf8xCU3"
      },
      "source": [
        "Lets look at sample element"
      ]
    },
    {
      "cell_type": "code",
      "metadata": {
        "colab": {
          "base_uri": "https://localhost:8080/"
        },
        "id": "kIUvqR9OwuSk",
        "outputId": "c5bb3c2b-5269-4a85-93ee-3b1d36ca7f90"
      },
      "source": [
        "dataset[0]"
      ],
      "execution_count": 20,
      "outputs": [
        {
          "output_type": "execute_result",
          "data": {
            "text/plain": [
              "(<PIL.Image.Image image mode=L size=28x28 at 0x7F3410C59910>, 5)"
            ]
          },
          "metadata": {},
          "execution_count": 20
        }
      ]
    },
    {
      "cell_type": "markdown",
      "metadata": {
        "id": "vSlYAA0Cxayc"
      },
      "source": [
        "Its pair, consisting of 28x28px image and a label. The image is an object of class `PIL.Image.Image`, which is a part of the Python imaging library Pillow.To view the image with Jupyter using `matplotlib` the de-facto plotting and graphing library for data science in python"
      ]
    },
    {
      "cell_type": "code",
      "metadata": {
        "id": "jst1MZi5wyvF"
      },
      "source": [
        "import matplotlib.pyplot as plt\n",
        "%matplotlib inline"
      ],
      "execution_count": 21,
      "outputs": []
    },
    {
      "cell_type": "markdown",
      "metadata": {
        "id": "aCNsJoWHzUXM"
      },
      "source": [
        "`%matplotlib inline` indicates to jupiter that we want to plot within the notebook. without this line Jupyter will show the image in popup. \n",
        "\n",
        "the statements with `%` are called magic commands and are used to onfigure the behaviour of jupyter itself . "
      ]
    },
    {
      "cell_type": "markdown",
      "metadata": {
        "id": "DH0VASec02_Z"
      },
      "source": [
        "Lets look at some of the images from the dataset."
      ]
    },
    {
      "cell_type": "code",
      "metadata": {
        "colab": {
          "base_uri": "https://localhost:8080/",
          "height": 282
        },
        "id": "vmc4BUDk0_Hu",
        "outputId": "ae73b755-46af-48f9-c57c-cc2d92464db7"
      },
      "source": [
        "image,label = dataset[0]\n",
        "plt.imshow(image, cmap='gray')\n",
        "print('Label: ',label)"
      ],
      "execution_count": 22,
      "outputs": [
        {
          "output_type": "stream",
          "name": "stdout",
          "text": [
            "Label:  5\n"
          ]
        },
        {
          "output_type": "display_data",
          "data": {
            "image/png": "[encoded data removed]",
            "text/plain": [
              "<Figure size 432x288 with 1 Axes>"
            ]
          },
          "metadata": {
            "needs_background": "light"
          }
        }
      ]
    },
    {
      "cell_type": "markdown",
      "metadata": {
        "id": "BVo4p5p51rL0"
      },
      "source": [
        "It is evident that these images are relatively small in size, and recognoizing the digits can sometimes be challenging even for human eye. While its useful to look at these images, thses's just one problem here: \n",
        "\n",
        "PyTorch doesn't know how to work with images. We need to convert the images into tensors.W can do this by specifying a transformation while creating our dataset."
      ]
    },
    {
      "cell_type": "code",
      "metadata": {
        "id": "ie0ZQaBT1mVw"
      },
      "source": [
        "import torchvision.transforms as transforms"
      ],
      "execution_count": 23,
      "outputs": []
    },
    {
      "cell_type": "markdown",
      "metadata": {
        "id": "jDWdrtR62qvw"
      },
      "source": [
        "PyTorch datasets allow to specify one or more transform functions that are applied to theimages as they are loaded.The `torchvision.transforms` module contains many such predefined functions. Here, use the`ToTensor' transform to convert images into Pytorch tensors. "
      ]
    },
    {
      "cell_type": "code",
      "metadata": {
        "id": "E5A6MejG3rJv"
      },
      "source": [
        "# MNIST dataset (images and labels)\n",
        "dataset = MNIST(root='data/',train=True,transform=transforms.ToTensor())\n"
      ],
      "execution_count": 24,
      "outputs": []
    },
    {
      "cell_type": "code",
      "metadata": {
        "colab": {
          "base_uri": "https://localhost:8080/"
        },
        "id": "pG0YhRSV4PrU",
        "outputId": "0eeea783-1523-49c1-e59e-59b5acc9bdf4"
      },
      "source": [
        "img_tensor,label = dataset[0]\n",
        "print(img_tensor.shape, label)"
      ],
      "execution_count": 25,
      "outputs": [
        {
          "output_type": "stream",
          "name": "stdout",
          "text": [
            "torch.Size([1, 28, 28]) 5\n"
          ]
        }
      ]
    },
    {
      "cell_type": "markdown",
      "metadata": {
        "id": "cVWx7SVh4t2z"
      },
      "source": [
        "The image is now converted into 1x28x28 tensor. The first dimension tracks color channels. The second and third dimensions represent pixels along the height and width of the image, respectively. Since image in the MNIST dataset are grayscale, there's just one channel. Other datasets have images with color, in which case there are three channels : red, green,and blue(RGB) "
      ]
    },
    {
      "cell_type": "markdown",
      "metadata": {
        "id": "rQfX5c1V5q19"
      },
      "source": [
        "Let's look at the sample value inside the tensor"
      ]
    },
    {
      "cell_type": "code",
      "metadata": {
        "colab": {
          "base_uri": "https://localhost:8080/"
        },
        "id": "nPn-6tRT6Cvu",
        "outputId": "06068026-236e-43c1-cccb-c16a91ab112d"
      },
      "source": [
        "print(img_tensor[:,10:15,10:15])\n",
        "print(torch.max(img_tensor),torch.min(img_tensor))"
      ],
      "execution_count": 26,
      "outputs": [
        {
          "output_type": "stream",
          "name": "stdout",
          "text": [
            "tensor([[[0.0039, 0.6039, 0.9922, 0.3529, 0.0000],\n",
            "         [0.0000, 0.5451, 0.9922, 0.7451, 0.0078],\n",
            "         [0.0000, 0.0431, 0.7451, 0.9922, 0.2745],\n",
            "         [0.0000, 0.0000, 0.1373, 0.9451, 0.8824],\n",
            "         [0.0000, 0.0000, 0.0000, 0.3176, 0.9412]]])\n",
            "tensor(1.) tensor(0.)\n"
          ]
        }
      ]
    },
    {
      "cell_type": "markdown",
      "metadata": {
        "id": "OixSFUds6iKb"
      },
      "source": [
        "The values range from `0` and `1`, with `0` representing black, `1` white, and the values in between different shades of grey. \n",
        "\n",
        "We can also plot the tensor as an image using `plt.imshow` "
      ]
    },
    {
      "cell_type": "code",
      "metadata": {
        "colab": {
          "base_uri": "https://localhost:8080/",
          "height": 282
        },
        "id": "yTSPPH6v73Cu",
        "outputId": "a9c21b54-2364-4a1a-8ab6-c89bbae1bf7d"
      },
      "source": [
        "# Plot the image by passing in the 28x28 matrix\n",
        "plt.imshow(img_tensor[0,10:15,10:15],cmap='gray')"
      ],
      "execution_count": 27,
      "outputs": [
        {
          "output_type": "execute_result",
          "data": {
            "text/plain": [
              "<matplotlib.image.AxesImage at 0x7f3410ab56d0>"
            ]
          },
          "metadata": {},
          "execution_count": 27
        },
        {
          "output_type": "display_data",
          "data": {
            "image/png": "[encoded data removed]",
            "text/plain": [
              "<Figure size 432x288 with 1 Axes>"
            ]
          },
          "metadata": {
            "needs_background": "light"
          }
        }
      ]
    },
    {
      "cell_type": "markdown",
      "metadata": {
        "id": "l2FI_UIK8bPu"
      },
      "source": [
        "Note that we need to pass just 28x28 matrix to `plt.imshow`,without a channel dimension. We also pass a color map(cmap=gray) to indicate that we want to see a grayscale image."
      ]
    },
    {
      "cell_type": "markdown",
      "metadata": {
        "id": "bO-tJGBjBrwK"
      },
      "source": [
        "### Training and Validation Datasets\n",
        "While building real-world machine learning models, it is quite common to split the dataset into three parts: \n",
        "1. **Training set** - used to train the model, i.e., compute the loss and adjust the model's weights using gradient descent.\n",
        "2. **Validation set** - Used to evaluatethe model during training, adjust hyperparameters(learning rate, etc.), and pick the best version of the model.\n",
        "3. **Test set** - used to compare different models or approaches and report the model's final accuracy.\n",
        "\n",
        "In the MNIST dataset, there are 60000 training images and 10000 test images. the test set is standardized so that different researchers can report their models results against the same collection of images. \n",
        "\n",
        "Since, there's no predefined validation set, we must manually split the 60000 images into training and validation datasets. Let's set aside 10000 randomly chosen images for validation. We can do this using the `random_split` method from PyTorch.\n"
      ]
    },
    {
      "cell_type": "code",
      "metadata": {
        "colab": {
          "base_uri": "https://localhost:8080/"
        },
        "id": "ItHGH_pOFWx9",
        "outputId": "7a7b5ecd-605b-49fe-9459-4db74701daf4"
      },
      "source": [
        "from torch.utils.data import random_split \n",
        "\n",
        "train_ds, val_ds = random_split(dataset, [50000,10000])\n",
        "len(train_ds),len(val_ds)"
      ],
      "execution_count": 28,
      "outputs": [
        {
          "output_type": "execute_result",
          "data": {
            "text/plain": [
              "(50000, 10000)"
            ]
          },
          "metadata": {},
          "execution_count": 28
        }
      ]
    },
    {
      "cell_type": "markdown",
      "metadata": {
        "id": "ZzfA2P8XFxEG"
      },
      "source": [
        "It's essential to choose a random sample for creating a validation set. Training data is often sorted by the target labels, i.e.,images of 0s, followed by 1s, followed by 2s, etc. If we create a validation set using the last 20% of images, it would only consist pf 8s and 9s . In contrast, the training set would contain no 8s and 9s. Such a training -validation would make it impossible to train a useful model.\n",
        "\n",
        "Because we use training data to perform Gradient decent and the validation set is only used for evaluation. they are completely separate in the label set they contain\n",
        "\n",
        "We can now create data loader to help us load the data in batches. We'll use a batch size of 128. "
      ]
    },
    {
      "cell_type": "code",
      "metadata": {
        "id": "j_kYgdK2cM0Q"
      },
      "source": [
        "from torch.utils.data import DataLoader\n",
        "\n",
        "batch_size = 128\n",
        "\n",
        "train_loader = DataLoader(train_ds, batch_size,shuffle=True)\n",
        "val_loader = DataLoader(val_ds,batch_size)"
      ],
      "execution_count": 29,
      "outputs": []
    },
    {
      "cell_type": "markdown",
      "metadata": {
        "id": "JzpKXdGCdx8X"
      },
      "source": [
        "Set `shuffle=True` for the training dataloader to ensure that the batches generated in each epoch are different. This randomization helps generalize and speed up the training process. On the other hand, since the validation dataloader is used only for evaluating the model , there is no need to shuffle the images "
      ]
    },
    {
      "cell_type": "markdown",
      "metadata": {
        "id": "mCw8YZiweliV"
      },
      "source": [
        " ### Model\n",
        " Now that we have prepared our data loaders we can define our model, \n",
        " - A **logistic regression** model is almost identical to linear regression model. It contains weights and bias matrices, and the output is obtained using simple matrix operation(`pred = x @ wT _b `).\n",
        " - As we did with linear regression , we can use `nn.Linear` to create the model instead of manually creating and initializing the matrices.\n",
        " - Since `nn.Linear` expects each training example to be a vector , each `1x28x28` image tensor is *flattened* into a vector of size 784(`28*28`) \n",
        " - The output for each image is a vector of size 10, with each element signifying the probability of a particular target label(i.e. 0 to 9 ).The predicted label for an image is simply the one with the highest probability."
      ]
    },
    {
      "cell_type": "code",
      "metadata": {
        "id": "9RoHc0cvlQ4m"
      },
      "source": [
        "import torch.nn as nn\n",
        "\n",
        "input_size = 28 * 28\n",
        "num_classes = 10 \n",
        "\n",
        "#Logistic Regression Model\n",
        "model = nn.Linear(input_size,num_classes)"
      ],
      "execution_count": 30,
      "outputs": []
    },
    {
      "cell_type": "markdown",
      "metadata": {
        "id": "MSNQyCY_lvAL"
      },
      "source": [
        "Of course, this model is lot larger than previous model in terms of the number of parameters. lets take a look at the weights and biases"
      ]
    },
    {
      "cell_type": "code",
      "metadata": {
        "colab": {
          "base_uri": "https://localhost:8080/"
        },
        "id": "XyOBBd7wmHUy",
        "outputId": "ca09ad28-bd48-4a1e-8994-f6f5170b7ef8"
      },
      "source": [
        "print (model.weight.shape)\n",
        "model.weight"
      ],
      "execution_count": 31,
      "outputs": [
        {
          "output_type": "stream",
          "name": "stdout",
          "text": [
            "torch.Size([10, 784])\n"
          ]
        },
        {
          "output_type": "execute_result",
          "data": {
            "text/plain": [
              "Parameter containing:\n",
              "tensor([[ 0.0002,  0.0345, -0.0036,  ..., -0.0305, -0.0096, -0.0251],\n",
              "        [-0.0171,  0.0292,  0.0035,  ...,  0.0272, -0.0111, -0.0338],\n",
              "        [ 0.0334,  0.0152,  0.0064,  ...,  0.0328,  0.0148,  0.0329],\n",
              "        ...,\n",
              "        [ 0.0277, -0.0226, -0.0124,  ...,  0.0086, -0.0074,  0.0307],\n",
              "        [-0.0049, -0.0338, -0.0182,  ...,  0.0211, -0.0333, -0.0209],\n",
              "        [ 0.0231,  0.0005, -0.0303,  ...,  0.0067, -0.0170,  0.0289]],\n",
              "       requires_grad=True)"
            ]
          },
          "metadata": {},
          "execution_count": 31
        }
      ]
    },
    {
      "cell_type": "code",
      "metadata": {
        "colab": {
          "base_uri": "https://localhost:8080/"
        },
        "id": "9yyj8dP5mVXX",
        "outputId": "74e1cef5-b4dc-47de-8dc4-5110262b5315"
      },
      "source": [
        "print (model.bias.shape)\n",
        "model.bias"
      ],
      "execution_count": 32,
      "outputs": [
        {
          "output_type": "stream",
          "name": "stdout",
          "text": [
            "torch.Size([10])\n"
          ]
        },
        {
          "output_type": "execute_result",
          "data": {
            "text/plain": [
              "Parameter containing:\n",
              "tensor([-0.0158, -0.0344, -0.0031, -0.0236,  0.0276, -0.0348,  0.0152,  0.0349,\n",
              "        -0.0333,  0.0228], requires_grad=True)"
            ]
          },
          "metadata": {},
          "execution_count": 32
        }
      ]
    },
    {
      "cell_type": "markdown",
      "metadata": {
        "id": "mMffnImSmdDS"
      },
      "source": [
        "Although there are a total of 7850 parameters here, conceptually, nothing has changes so far.Let's try and generate some outputs using our model. We'll take the first batch of 100 images from our dataset and pass them into our model."
      ]
    },
    {
      "cell_type": "code",
      "metadata": {
        "colab": {
          "base_uri": "https://localhost:8080/",
          "height": 505
        },
        "id": "pwFBWyFUnPiX",
        "outputId": "aec5d604-0031-4f7a-e378-d2ba0a66db22"
      },
      "source": [
        "for images, labels in train_loader:\n",
        "  print(labels)\n",
        "  print(images.shape)\n",
        "  outputs = model(images)\n",
        "  break"
      ],
      "execution_count": 33,
      "outputs": [
        {
          "output_type": "stream",
          "name": "stdout",
          "text": [
            "tensor([0, 0, 7, 8, 7, 4, 0, 9, 8, 4, 8, 8, 3, 7, 6, 0, 1, 1, 9, 4, 2, 1, 3, 9,\n",
            "        6, 6, 5, 6, 6, 7, 5, 3, 6, 8, 8, 2, 5, 4, 8, 9, 2, 7, 3, 0, 8, 6, 7, 2,\n",
            "        3, 9, 2, 0, 1, 6, 3, 7, 8, 3, 6, 4, 9, 6, 4, 2, 3, 6, 9, 2, 2, 3, 1, 1,\n",
            "        6, 5, 2, 3, 2, 8, 0, 0, 0, 3, 0, 9, 9, 9, 0, 8, 1, 1, 0, 9, 1, 7, 2, 4,\n",
            "        4, 1, 2, 4, 6, 6, 2, 7, 3, 1, 1, 7, 4, 5, 7, 3, 0, 9, 3, 7, 9, 0, 6, 5,\n",
            "        3, 3, 8, 4, 8, 7, 7, 1])\n",
            "torch.Size([128, 1, 28, 28])\n"
          ]
        },
        {
          "output_type": "error",
          "ename": "RuntimeError",
          "evalue": "ignored",
          "traceback": [
            "\u001b[0;31m---------------------------------------------------------------------------\u001b[0m",
            "\u001b[0;31mRuntimeError\u001b[0m                              Traceback (most recent call last)",
            "\u001b[0;32m<ipython-input-33-a8c0fa89d43a>\u001b[0m in \u001b[0;36m<module>\u001b[0;34m()\u001b[0m\n\u001b[1;32m      2\u001b[0m   \u001b[0mprint\u001b[0m\u001b[0;34m(\u001b[0m\u001b[0mlabels\u001b[0m\u001b[0;34m)\u001b[0m\u001b[0;34m\u001b[0m\u001b[0;34m\u001b[0m\u001b[0m\n\u001b[1;32m      3\u001b[0m   \u001b[0mprint\u001b[0m\u001b[0;34m(\u001b[0m\u001b[0mimages\u001b[0m\u001b[0;34m.\u001b[0m\u001b[0mshape\u001b[0m\u001b[0;34m)\u001b[0m\u001b[0;34m\u001b[0m\u001b[0;34m\u001b[0m\u001b[0m\n\u001b[0;32m----> 4\u001b[0;31m   \u001b[0moutputs\u001b[0m \u001b[0;34m=\u001b[0m \u001b[0mmodel\u001b[0m\u001b[0;34m(\u001b[0m\u001b[0mimages\u001b[0m\u001b[0;34m)\u001b[0m\u001b[0;34m\u001b[0m\u001b[0;34m\u001b[0m\u001b[0m\n\u001b[0m\u001b[1;32m      5\u001b[0m   \u001b[0;32mbreak\u001b[0m\u001b[0;34m\u001b[0m\u001b[0;34m\u001b[0m\u001b[0m\n",
            "\u001b[0;32m/usr/local/lib/python3.7/dist-packages/torch/nn/modules/module.py\u001b[0m in \u001b[0;36m_call_impl\u001b[0;34m(self, *input, **kwargs)\u001b[0m\n\u001b[1;32m   1049\u001b[0m         if not (self._backward_hooks or self._forward_hooks or self._forward_pre_hooks or _global_backward_hooks\n\u001b[1;32m   1050\u001b[0m                 or _global_forward_hooks or _global_forward_pre_hooks):\n\u001b[0;32m-> 1051\u001b[0;31m             \u001b[0;32mreturn\u001b[0m \u001b[0mforward_call\u001b[0m\u001b[0;34m(\u001b[0m\u001b[0;34m*\u001b[0m\u001b[0minput\u001b[0m\u001b[0;34m,\u001b[0m \u001b[0;34m**\u001b[0m\u001b[0mkwargs\u001b[0m\u001b[0;34m)\u001b[0m\u001b[0;34m\u001b[0m\u001b[0;34m\u001b[0m\u001b[0m\n\u001b[0m\u001b[1;32m   1052\u001b[0m         \u001b[0;31m# Do not call functions when jit is used\u001b[0m\u001b[0;34m\u001b[0m\u001b[0;34m\u001b[0m\u001b[0;34m\u001b[0m\u001b[0m\n\u001b[1;32m   1053\u001b[0m         \u001b[0mfull_backward_hooks\u001b[0m\u001b[0;34m,\u001b[0m \u001b[0mnon_full_backward_hooks\u001b[0m \u001b[0;34m=\u001b[0m \u001b[0;34m[\u001b[0m\u001b[0;34m]\u001b[0m\u001b[0;34m,\u001b[0m \u001b[0;34m[\u001b[0m\u001b[0;34m]\u001b[0m\u001b[0;34m\u001b[0m\u001b[0;34m\u001b[0m\u001b[0m\n",
            "\u001b[0;32m/usr/local/lib/python3.7/dist-packages/torch/nn/modules/linear.py\u001b[0m in \u001b[0;36mforward\u001b[0;34m(self, input)\u001b[0m\n\u001b[1;32m     94\u001b[0m \u001b[0;34m\u001b[0m\u001b[0m\n\u001b[1;32m     95\u001b[0m     \u001b[0;32mdef\u001b[0m \u001b[0mforward\u001b[0m\u001b[0;34m(\u001b[0m\u001b[0mself\u001b[0m\u001b[0;34m,\u001b[0m \u001b[0minput\u001b[0m\u001b[0;34m:\u001b[0m \u001b[0mTensor\u001b[0m\u001b[0;34m)\u001b[0m \u001b[0;34m->\u001b[0m \u001b[0mTensor\u001b[0m\u001b[0;34m:\u001b[0m\u001b[0;34m\u001b[0m\u001b[0;34m\u001b[0m\u001b[0m\n\u001b[0;32m---> 96\u001b[0;31m         \u001b[0;32mreturn\u001b[0m \u001b[0mF\u001b[0m\u001b[0;34m.\u001b[0m\u001b[0mlinear\u001b[0m\u001b[0;34m(\u001b[0m\u001b[0minput\u001b[0m\u001b[0;34m,\u001b[0m \u001b[0mself\u001b[0m\u001b[0;34m.\u001b[0m\u001b[0mweight\u001b[0m\u001b[0;34m,\u001b[0m \u001b[0mself\u001b[0m\u001b[0;34m.\u001b[0m\u001b[0mbias\u001b[0m\u001b[0;34m)\u001b[0m\u001b[0;34m\u001b[0m\u001b[0;34m\u001b[0m\u001b[0m\n\u001b[0m\u001b[1;32m     97\u001b[0m \u001b[0;34m\u001b[0m\u001b[0m\n\u001b[1;32m     98\u001b[0m     \u001b[0;32mdef\u001b[0m \u001b[0mextra_repr\u001b[0m\u001b[0;34m(\u001b[0m\u001b[0mself\u001b[0m\u001b[0;34m)\u001b[0m \u001b[0;34m->\u001b[0m \u001b[0mstr\u001b[0m\u001b[0;34m:\u001b[0m\u001b[0;34m\u001b[0m\u001b[0;34m\u001b[0m\u001b[0m\n",
            "\u001b[0;32m/usr/local/lib/python3.7/dist-packages/torch/nn/functional.py\u001b[0m in \u001b[0;36mlinear\u001b[0;34m(input, weight, bias)\u001b[0m\n\u001b[1;32m   1845\u001b[0m     \u001b[0;32mif\u001b[0m \u001b[0mhas_torch_function_variadic\u001b[0m\u001b[0;34m(\u001b[0m\u001b[0minput\u001b[0m\u001b[0;34m,\u001b[0m \u001b[0mweight\u001b[0m\u001b[0;34m)\u001b[0m\u001b[0;34m:\u001b[0m\u001b[0;34m\u001b[0m\u001b[0;34m\u001b[0m\u001b[0m\n\u001b[1;32m   1846\u001b[0m         \u001b[0;32mreturn\u001b[0m \u001b[0mhandle_torch_function\u001b[0m\u001b[0;34m(\u001b[0m\u001b[0mlinear\u001b[0m\u001b[0;34m,\u001b[0m \u001b[0;34m(\u001b[0m\u001b[0minput\u001b[0m\u001b[0;34m,\u001b[0m \u001b[0mweight\u001b[0m\u001b[0;34m)\u001b[0m\u001b[0;34m,\u001b[0m \u001b[0minput\u001b[0m\u001b[0;34m,\u001b[0m \u001b[0mweight\u001b[0m\u001b[0;34m,\u001b[0m \u001b[0mbias\u001b[0m\u001b[0;34m=\u001b[0m\u001b[0mbias\u001b[0m\u001b[0;34m)\u001b[0m\u001b[0;34m\u001b[0m\u001b[0;34m\u001b[0m\u001b[0m\n\u001b[0;32m-> 1847\u001b[0;31m     \u001b[0;32mreturn\u001b[0m \u001b[0mtorch\u001b[0m\u001b[0;34m.\u001b[0m\u001b[0m_C\u001b[0m\u001b[0;34m.\u001b[0m\u001b[0m_nn\u001b[0m\u001b[0;34m.\u001b[0m\u001b[0mlinear\u001b[0m\u001b[0;34m(\u001b[0m\u001b[0minput\u001b[0m\u001b[0;34m,\u001b[0m \u001b[0mweight\u001b[0m\u001b[0;34m,\u001b[0m \u001b[0mbias\u001b[0m\u001b[0;34m)\u001b[0m\u001b[0;34m\u001b[0m\u001b[0;34m\u001b[0m\u001b[0m\n\u001b[0m\u001b[1;32m   1848\u001b[0m \u001b[0;34m\u001b[0m\u001b[0m\n\u001b[1;32m   1849\u001b[0m \u001b[0;34m\u001b[0m\u001b[0m\n",
            "\u001b[0;31mRuntimeError\u001b[0m: mat1 and mat2 shapes cannot be multiplied (3584x28 and 784x10)"
          ]
        }
      ]
    },
    {
      "cell_type": "markdown",
      "metadata": {
        "id": "43q2pKQbn21d"
      },
      "source": [
        "The code above leads to an error because our input data does not have the right shape. Our images are of the shape 1x28x28, but we need them to be vectors of size 784, i.e., we needt to flatten them. We'll use the `.reshape` method of a tensor, which will allow us to efficiently 'view' each image as a flat vector without really creating a copy of the underlying data. To include this additional functionality within our model, we need to define a custom model by extending the nn.Module class from PyTorch\n",
        "\n",
        "A class in python provides a \"blueprint\" for creating objects. Lets look at an example of defining a new class in python"
      ]
    }
  ]
}